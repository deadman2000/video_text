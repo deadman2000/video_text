{
 "cells": [
  {
   "cell_type": "raw",
   "metadata": {},
   "source": [
    "%pip install fuzzywuzzy python-Levenshtein"
   ]
  },
  {
   "cell_type": "code",
   "execution_count": 1,
   "metadata": {},
   "outputs": [],
   "source": [
    "import cv2\n",
    "import os\n",
    "import pytesseract\n",
    "from fuzzywuzzy import fuzz\n",
    "\n",
    "import download\n",
    "from extract import unsharp, process_text\n",
    "import validations"
   ]
  },
  {
   "cell_type": "code",
   "execution_count": 2,
   "metadata": {},
   "outputs": [],
   "source": [
    "rate_list = []\n",
    "pset = set()\n",
    "proceed = set()\n",
    "\n",
    "if os.path.isfile(\"scores.txt\"):\n",
    "    f = open(\"scores.txt\", \"r\")\n",
    "    lines = f.readlines()\n",
    "    lines = [l.split(' ') for l in lines]\n",
    "    rate_list = [(l[0], int(l[1]), int(l[2]), int(l[3])) for l in lines]\n",
    "    pset = set(r[0] for r in rate_list)\n",
    "    proceed = set(pset)"
   ]
  },
  {
   "cell_type": "code",
   "execution_count": 3,
   "metadata": {},
   "outputs": [],
   "source": [
    "filters = ['h_600', 'h_800', '*1', '*2', '*3', '*4', '*5', '*6', 'gray', 'unsharp', 'thresh', 'blur', '']\n",
    "filters = [f if len(f) == 0 else f+':' for f in filters]\n",
    "def is_scale(p):\n",
    "    return p.startswith('h_') or p.startswith('*')"
   ]
  },
  {
   "cell_type": "code",
   "execution_count": 4,
   "metadata": {},
   "outputs": [],
   "source": [
    "params = []\n",
    "#pset = set()\n",
    "for f1 in filters:\n",
    "    for f2 in filters:\n",
    "        if f2 != '' and f2 == f1: continue\n",
    "        if is_scale(f1) and is_scale(f2): continue\n",
    "        for f3 in filters:\n",
    "            if f3 == f1 or f3 == f2: continue\n",
    "            if is_scale(f1) and is_scale(f3): continue\n",
    "            if is_scale(f2) and is_scale(f3): continue\n",
    "            val = f1+f2+f3\n",
    "            if val in pset: continue\n",
    "            pset.add(val)\n",
    "            params.append(val)"
   ]
  },
  {
   "cell_type": "code",
   "execution_count": 5,
   "metadata": {},
   "outputs": [
    {
     "data": {
      "text/plain": [
       "400"
      ]
     },
     "execution_count": 5,
     "metadata": {},
     "output_type": "execute_result"
    }
   ],
   "source": [
    "len(params)"
   ]
  },
  {
   "cell_type": "code",
   "execution_count": 6,
   "metadata": {},
   "outputs": [],
   "source": [
    "def estimate(ps, video_id, frame, text):\n",
    "    im = download.get_frame(video_id, frame)\n",
    "    for p in ps.split(':'):\n",
    "        if len(p) == 0: continue\n",
    "        if p.startswith('h_'):\n",
    "            target_height = int(p[2:])\n",
    "            h = im.shape[0]\n",
    "            w = im.shape[1]\n",
    "            scale = target_height / h\n",
    "            im = cv2.resize(im, None, fx=scale, fy=scale, interpolation=cv2.INTER_CUBIC)\n",
    "        elif p.startswith('*'):\n",
    "            scale = int(p[1:])\n",
    "            im = cv2.resize(im, None, fx=scale, fy=scale, interpolation=cv2.INTER_CUBIC)\n",
    "        elif p == 'gray':\n",
    "            im = cv2.cvtColor(im, cv2.COLOR_BGR2GRAY)\n",
    "        elif p == 'unsharp':\n",
    "            im = unsharp(im)\n",
    "        elif p == 'thresh':\n",
    "            im = cv2.threshold(im, 150, 255, cv2.THRESH_BINARY)[1]\n",
    "        elif p == 'blur':\n",
    "            im = cv2.medianBlur(im, 3)\n",
    "    tess_text = pytesseract.image_to_string(im)\n",
    "    tess_text = process_text(tess_text)\n",
    "    return fuzz.ratio(text.lower(), tess_text.lower())"
   ]
  },
  {
   "cell_type": "code",
   "execution_count": null,
   "metadata": {
    "tags": []
   },
   "outputs": [
    {
     "name": "stdout",
     "output_type": "stream",
     "text": [
      "h_600:gray:unsharp: 16 0 40\n",
      "h_600:gray:thresh: 58 0 90\n",
      "h_600:gray:blur: 14 0 56\n",
      "h_600:gray: 10 0 31\n",
      "h_600:unsharp:gray: 13 0 60\n",
      "h_600:unsharp:thresh: 53 0 75\n",
      "h_600:unsharp:blur: 0 0 0\n",
      "h_600:unsharp: 18 0 82\n",
      "h_600:thresh:gray: 55 0 85\n",
      "h_600:thresh:unsharp: 64 36 92\n",
      "h_600:thresh:blur: 65 40 85\n",
      "h_600:thresh: 64 36 92\n",
      "h_600:blur:gray: 14 0 51\n",
      "h_600:blur:unsharp: 9 0 53\n",
      "h_600:blur:thresh: 65 40 85\n",
      "h_600:blur: 12 0 66\n",
      "h_800:gray:unsharp: 8 0 29\n",
      "h_800:gray:thresh: 68 39 94\n",
      "h_800:gray:blur: 20 0 51\n",
      "h_800:gray: 15 0 32\n",
      "h_800:unsharp:gray: 23 0 58\n",
      "h_800:unsharp:thresh: 53 0 91\n",
      "h_800:unsharp:blur: 40 0 74\n",
      "h_800:unsharp: 14 0 50\n",
      "h_800:thresh:gray: 53 26 83\n",
      "h_800:thresh:unsharp: 60 34 88\n",
      "h_800:thresh:blur: 55 25 73\n",
      "h_800:thresh: 60 34 88\n",
      "h_800:blur:gray: 8 0 51\n",
      "h_800:blur:unsharp: 9 0 32\n",
      "h_800:blur:thresh: 55 25 73\n",
      "h_800:blur: 36 0 66\n",
      "*1:gray:unsharp: 14 0 33\n",
      "*1:gray:thresh: 41 0 90\n",
      "*1:gray:blur: 16 0 62\n",
      "*1:gray: 16 0 31\n",
      "*1:unsharp:gray: 16 0 37\n",
      "*1:unsharp:thresh: 68 25 95\n",
      "*1:unsharp:blur: 19 0 58\n",
      "*1:unsharp: 17 0 82\n",
      "*1:thresh:gray: 52 0 88\n",
      "*1:thresh:unsharp: 60 0 89\n",
      "*1:thresh:blur: 64 31 98\n",
      "*1:thresh: 60 0 89\n",
      "*1:blur:gray: 1 0 8\n",
      "*1:blur:unsharp: 16 0 48\n",
      "*1:blur:thresh: 64 31 98\n",
      "*1:blur: 23 0 71\n",
      "*2:gray:unsharp: 5 0 32\n",
      "*2:gray:thresh: 59 27 89\n",
      "*2:gray:blur: 15 0 32\n",
      "*2:gray: 28 0 57\n",
      "*2:unsharp:gray: 13 0 52\n",
      "*2:unsharp:thresh: 56 21 97\n",
      "*2:unsharp:blur: 37 0 67\n",
      "*2:unsharp: 22 0 42\n",
      "*2:thresh:gray: 48 0 92\n",
      "*2:thresh:unsharp: 50 0 91\n",
      "*2:thresh:blur: 52 18 69\n",
      "*2:thresh: 50 0 91\n",
      "*2:blur:gray: 16 0 53\n",
      "*2:blur:unsharp: 28 0 41\n",
      "*2:blur:thresh: 52 18 69\n",
      "*2:blur: 40 5 73\n",
      "*3:gray:unsharp: 23 0 39\n",
      "*3:gray:thresh: 50 21 65\n",
      "*3:gray:blur: 18 0 32\n",
      "*3:gray: 31 17 52\n",
      "*3:unsharp:gray: 14 0 32\n",
      "*3:unsharp:thresh: 51 22 78\n",
      "*3:unsharp:blur: 47 27 84\n",
      "*3:unsharp: 28 0 60\n",
      "*3:thresh:gray: 43 0 85\n",
      "*3:thresh:unsharp: 39 10 81\n",
      "*3:thresh:blur: 54 30 89\n",
      "*3:thresh: 39 10 81\n",
      "*3:blur:gray: 19 0 33\n",
      "*3:blur:unsharp: 42 20 68\n",
      "*3:blur:thresh: 54 30 89\n",
      "*3:blur: 36 24 57\n",
      "*4:gray:unsharp: 27 0 42\n",
      "*4:gray:thresh: 49 0 74\n",
      "*4:gray:blur: 23 0 51\n",
      "*4:gray: 21 0 41\n",
      "*4:unsharp:gray: 22 0 42\n",
      "*4:unsharp:thresh: 51 17 93\n",
      "*4:unsharp:blur: 60 37 100\n",
      "*4:unsharp: 50 34 91\n",
      "*4:thresh:gray: 56 27 90\n",
      "*4:thresh:unsharp: 55 18 91\n",
      "*4:thresh:blur: 53 32 80\n",
      "*4:thresh: 55 18 91\n",
      "*4:blur:gray: 22 0 39\n",
      "*4:blur:unsharp: 50 28 99\n",
      "*4:blur:thresh: 53 32 80\n",
      "*4:blur: 20 0 58\n",
      "*5:gray:unsharp: 19 0 37\n",
      "*5:gray:thresh: 53 21 72\n",
      "*5:gray:blur: 18 0 32\n",
      "*5:gray: 22 0 38\n",
      "*5:unsharp:gray: 13 0 33\n",
      "*5:unsharp:thresh: 47 12 76\n",
      "*5:unsharp:blur: 28 0 55\n",
      "*5:unsharp: 32 0 60\n",
      "*5:thresh:gray: 52 26 90\n",
      "*5:thresh:unsharp: 44 19 84\n",
      "*5:thresh:blur: 46 20 89\n",
      "*5:thresh: 44 19 84\n",
      "*5:blur:gray: 18 0 38\n",
      "*5:blur:unsharp: 39 28 69\n",
      "*5:blur:thresh: 46 20 89\n",
      "*5:blur: 29 0 56\n",
      "*6:gray:unsharp: 31 0 45\n",
      "*6:gray:thresh: 53 22 83\n",
      "*6:gray:blur: 19 0 39\n",
      "*6:gray: 21 0 52\n",
      "*6:unsharp:gray: 12 0 34\n",
      "*6:unsharp:thresh: 57 16 91\n",
      "*6:unsharp:blur: 45 25 62\n"
     ]
    }
   ],
   "source": [
    "best = None\n",
    "best_score = 0\n",
    "#rate_list = []\n",
    "\n",
    "for p in params:\n",
    "    if p in proceed: continue\n",
    "    total = 0\n",
    "    score_min = 101*len(validations.data)\n",
    "    score_max = -1\n",
    "    for d in validations.data:\n",
    "        score = estimate(p, **d)\n",
    "        if score > 0:\n",
    "            total += score\n",
    "        score_min = min(score_min, score)\n",
    "        score_max = max(score_max, score)\n",
    "    total = total // len(validations.data)\n",
    "    print(p, total, score_min, score_max)\n",
    "    if total > best_score:\n",
    "        best = p\n",
    "        best_score = total\n",
    "    if total > 0:\n",
    "        rate_list.append((p, total, score_min, score_max))\n",
    "\n",
    "    f = open(\"scores.txt\", \"a\")\n",
    "    f.write(\"%s %d %d %d\\n\" % (p, total, score_min, score_max))\n",
    "    f.close()\n",
    "    proceed.add(p)"
   ]
  },
  {
   "cell_type": "markdown",
   "metadata": {},
   "source": [
    "Top best avg score"
   ]
  },
  {
   "cell_type": "code",
   "execution_count": null,
   "metadata": {
    "tags": []
   },
   "outputs": [],
   "source": [
    "sorted(rate_list, key=lambda r: -r[1])[:10]"
   ]
  },
  {
   "cell_type": "markdown",
   "metadata": {},
   "source": [
    "Top best min score"
   ]
  },
  {
   "cell_type": "code",
   "execution_count": null,
   "metadata": {},
   "outputs": [],
   "source": [
    "sorted(rate_list, key=lambda r: (-r[2], -r[1]))[:10]"
   ]
  }
 ],
 "metadata": {
  "kernelspec": {
   "display_name": "Python 3 (ipykernel)",
   "language": "python",
   "name": "python3"
  },
  "language_info": {
   "codemirror_mode": {
    "name": "ipython",
    "version": 3
   },
   "file_extension": ".py",
   "mimetype": "text/x-python",
   "name": "python",
   "nbconvert_exporter": "python",
   "pygments_lexer": "ipython3",
   "version": "3.8.3"
  }
 },
 "nbformat": 4,
 "nbformat_minor": 4
}
