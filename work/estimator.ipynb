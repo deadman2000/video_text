{
 "cells": [
  {
   "cell_type": "raw",
   "metadata": {},
   "source": [
    "%pip install fuzzywuzzy python-Levenshtein"
   ]
  },
  {
   "cell_type": "code",
   "execution_count": 1,
   "metadata": {},
   "outputs": [],
   "source": [
    "import re\n",
    "import cv2\n",
    "import os\n",
    "import pytesseract\n",
    "from fuzzywuzzy import fuzz\n",
    "\n",
    "import download\n",
    "from extract import unsharp\n",
    "import validations"
   ]
  },
  {
   "cell_type": "code",
   "execution_count": 2,
   "metadata": {},
   "outputs": [],
   "source": [
    "rate_list = []\n",
    "pset = set()\n",
    "proceed = set()\n",
    "\n",
    "if os.path.isfile(\"scores.txt\"):\n",
    "    f = open(\"scores.txt\", \"r\")\n",
    "    lines = f.readlines()\n",
    "    lines = [l.split(' ') for l in lines]\n",
    "    rate_list = [(l[0], int(l[1]), int(l[2]), int(l[3])) for l in lines]\n",
    "    pset = set(r[0] for r in rate_list)\n",
    "    proceed = set(pset)"
   ]
  },
  {
   "cell_type": "code",
   "execution_count": 3,
   "metadata": {},
   "outputs": [],
   "source": [
    "filters = ['h_600', 'h_800', '*2', '*3', '*4', '*5', '*6', 'gray', 'unsharp', 'thresh', 'blur', '']\n",
    "filters = [f if len(f) == 0 else f+':' for f in filters]\n",
    "def is_scale(p):\n",
    "    return p.startswith('h_') or p.startswith('*')"
   ]
  },
  {
   "cell_type": "code",
   "execution_count": 4,
   "metadata": {},
   "outputs": [],
   "source": [
    "params = []\n",
    "#pset = set()\n",
    "for f1 in filters:\n",
    "    for f2 in filters:\n",
    "        if f2 != '' and f2 == f1: continue\n",
    "        if is_scale(f1) and is_scale(f2): continue\n",
    "        for f3 in filters:\n",
    "            if f3 == f1 or f3 == f2: continue\n",
    "            if is_scale(f1) and is_scale(f3): continue\n",
    "            if is_scale(f2) and is_scale(f3): continue\n",
    "            val = f1+f2+f3\n",
    "            if val in pset: continue\n",
    "            pset.add(val)\n",
    "            params.append(val)"
   ]
  },
  {
   "cell_type": "code",
   "execution_count": 5,
   "metadata": {},
   "outputs": [
    {
     "data": {
      "text/plain": [
       "0"
      ]
     },
     "execution_count": 5,
     "metadata": {},
     "output_type": "execute_result"
    }
   ],
   "source": [
    "len(params)"
   ]
  },
  {
   "cell_type": "code",
   "execution_count": 6,
   "metadata": {},
   "outputs": [],
   "source": [
    "reg = re.compile('[^A-Za-z0-9!?\\.\\-,'' ]+')\n",
    "\n",
    "def process_text(txt):\n",
    "    lines = txt.split('\\n')\n",
    "    lines = [reg.sub('', l) for l in lines]\n",
    "    txt = ' '.join(lines)\n",
    "    return txt"
   ]
  },
  {
   "cell_type": "code",
   "execution_count": 7,
   "metadata": {},
   "outputs": [],
   "source": [
    "def estimate(ps, video_id, frame, text):\n",
    "    im = download.get_frame(video_id, frame)\n",
    "    for p in ps.split(':'):\n",
    "        if len(p) == 0: continue\n",
    "        if p.startswith('h_'):\n",
    "            target_height = int(p[2:])\n",
    "            h = im.shape[0]\n",
    "            w = im.shape[1]\n",
    "            scale = target_height / h\n",
    "            im = cv2.resize(im, None, fx=scale, fy=scale, interpolation=cv2.INTER_CUBIC)\n",
    "        elif p.startswith('*'):\n",
    "            scale = int(p[1:])\n",
    "            im = cv2.resize(im, None, fx=scale, fy=scale, interpolation=cv2.INTER_CUBIC)\n",
    "        elif p == 'gray':\n",
    "            im = cv2.cvtColor(im, cv2.COLOR_BGR2GRAY)\n",
    "        elif p == 'unsharp':\n",
    "            im = unsharp(im)\n",
    "        elif p == 'thresh':\n",
    "            im = cv2.threshold(im, 150, 255, cv2.THRESH_BINARY)[1]\n",
    "        elif p == 'blur':\n",
    "            im = cv2.medianBlur(im, 3)\n",
    "    tess_text = pytesseract.image_to_string(im)\n",
    "    tess_text = process_text(tess_text)\n",
    "    return fuzz.ratio(text.lower(), tess_text.lower())"
   ]
  },
  {
   "cell_type": "code",
   "execution_count": 8,
   "metadata": {},
   "outputs": [],
   "source": [
    "best = None\n",
    "best_score = 0\n",
    "#rate_list = []\n",
    "\n",
    "for p in params:\n",
    "    if p in proceed: continue\n",
    "    total = 0\n",
    "    score_min = 101*len(validations.data)\n",
    "    score_max = -1\n",
    "    for d in validations.data:\n",
    "        score = estimate(p, **d)\n",
    "        if score > 0:\n",
    "            total += score\n",
    "        score_min = min(score_min, score)\n",
    "        score_max = max(score_max, score)\n",
    "    total = total // len(validations.data)\n",
    "    print(p, total, score_min, score_max)\n",
    "    if total > best_score:\n",
    "        best = p\n",
    "        best_score = total\n",
    "    if total > 0:\n",
    "        rate_list.append((p, total, score_min, score_max))\n",
    "\n",
    "    f = open(\"scores.txt\", \"a\")\n",
    "    f.write(\"%s %d %d %d\\n\" % (p, total, score_min, score_max))\n",
    "    f.close()\n",
    "    proceed.add(p)"
   ]
  },
  {
   "cell_type": "markdown",
   "metadata": {},
   "source": [
    "Top best avg score"
   ]
  },
  {
   "cell_type": "code",
   "execution_count": 9,
   "metadata": {
    "tags": []
   },
   "outputs": [
    {
     "data": {
      "text/plain": [
       "[('gray:*6:unsharp:', 90, 82, 98),\n",
       " ('*6:unsharp:gray:', 89, 76, 98),\n",
       " ('*5:blur:gray:', 88, 75, 97),\n",
       " ('*5:', 88, 79, 97),\n",
       " ('h_800:gray:blur:', 87, 68, 97),\n",
       " ('*4:gray:blur:', 87, 72, 95),\n",
       " ('*6:gray:unsharp:', 87, 78, 95),\n",
       " ('*6:blur:', 87, 77, 97),\n",
       " ('gray:*4:unsharp:', 87, 66, 98),\n",
       " ('gray:*4:', 87, 69, 96)]"
      ]
     },
     "execution_count": 9,
     "metadata": {},
     "output_type": "execute_result"
    }
   ],
   "source": [
    "sorted(rate_list, key=lambda r: -r[1])[:10]"
   ]
  },
  {
   "cell_type": "markdown",
   "metadata": {},
   "source": [
    "Top best min score"
   ]
  },
  {
   "cell_type": "code",
   "execution_count": 10,
   "metadata": {},
   "outputs": [
    {
     "data": {
      "text/plain": [
       "[('gray:*6:unsharp:', 90, 82, 98),\n",
       " ('*5:', 88, 79, 97),\n",
       " ('*6:gray:unsharp:', 87, 78, 95),\n",
       " ('*4:blur:', 86, 77, 97),\n",
       " ('*6:blur:', 87, 77, 97),\n",
       " ('blur:unsharp:*6:', 86, 77, 93),\n",
       " ('*6:', 87, 77, 95),\n",
       " ('h_600:gray:unsharp:', 82, 76, 96),\n",
       " ('*6:unsharp:gray:', 89, 76, 98),\n",
       " ('*5:blur:gray:', 88, 75, 97)]"
      ]
     },
     "execution_count": 10,
     "metadata": {},
     "output_type": "execute_result"
    }
   ],
   "source": [
    "sorted(rate_list, key=lambda r: -r[2])[:10]"
   ]
  }
 ],
 "metadata": {
  "kernelspec": {
   "display_name": "Python 3 (ipykernel)",
   "language": "python",
   "name": "python3"
  },
  "language_info": {
   "codemirror_mode": {
    "name": "ipython",
    "version": 3
   },
   "file_extension": ".py",
   "mimetype": "text/x-python",
   "name": "python",
   "nbconvert_exporter": "python",
   "pygments_lexer": "ipython3",
   "version": "3.9.10"
  }
 },
 "nbformat": 4,
 "nbformat_minor": 4
}
