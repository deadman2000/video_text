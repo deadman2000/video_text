{
 "cells": [
  {
   "cell_type": "code",
   "execution_count": null,
   "id": "04f78331-8282-470e-933a-6f33a90fe531",
   "metadata": {},
   "outputs": [],
   "source": [
    "import cv2\n",
    "from matplotlib import pyplot as plt\n",
    "\n",
    "import validations\n",
    "import download"
   ]
  },
  {
   "cell_type": "code",
   "execution_count": null,
   "id": "36d6e689-77c0-4b71-826d-9379fdeb662c",
   "metadata": {},
   "outputs": [],
   "source": [
    "for v in validations.data:\n",
    "    download.download_video(v['video_id'])"
   ]
  },
  {
   "cell_type": "code",
   "execution_count": null,
   "id": "96614ca6-7282-4f13-9cce-e0501b3c04e5",
   "metadata": {},
   "outputs": [],
   "source": [
    "for v in validations.data:\n",
    "    path = download.download_video(v['video_id'])\n",
    "    vidcap = cv2.VideoCapture(path)\n",
    "    fps = vidcap.get(cv2.CAP_PROP_FPS)\n",
    "    frame_num = v['frame'] * fps\n",
    "    print('Frame:', frame_num)\n",
    "    print('Text:', v['text'])\n",
    "    \n",
    "    vidcap.set(cv2.CAP_PROP_POS_FRAMES, frame_num)\n",
    "    success, image = vidcap.read()\n",
    "    \n",
    "    plt.axis(\"off\")\n",
    "    plt.imshow(cv2.cvtColor(image, cv2.COLOR_BGR2RGB))\n",
    "    plt.show()"
   ]
  }
 ],
 "metadata": {
  "kernelspec": {
   "display_name": "Python 3 (ipykernel)",
   "language": "python",
   "name": "python3"
  },
  "language_info": {
   "codemirror_mode": {
    "name": "ipython",
    "version": 3
   },
   "file_extension": ".py",
   "mimetype": "text/x-python",
   "name": "python",
   "nbconvert_exporter": "python",
   "pygments_lexer": "ipython3"
  }
 },
 "nbformat": 4,
 "nbformat_minor": 5
}
