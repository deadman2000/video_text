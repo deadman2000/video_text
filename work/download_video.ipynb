{
 "cells": [
  {
   "cell_type": "markdown",
   "id": "90349b15",
   "metadata": {},
   "source": [
    "https://youtu.be/Oevq2aSOs0M"
   ]
  },
  {
   "cell_type": "code",
   "execution_count": 1,
   "id": "d42c659c",
   "metadata": {},
   "outputs": [],
   "source": [
    "from yt_dlp import YoutubeDL"
   ]
  },
  {
   "cell_type": "code",
   "execution_count": 2,
   "id": "56707c00-30fd-4670-a272-7971f8686963",
   "metadata": {},
   "outputs": [],
   "source": [
    "ydl_opts = {\n",
    "    'format': 'mp4',\n",
    "    'restrictfilenames': True,\n",
    "    'outtmpl': '%(id)s.%(ext)s',\n",
    "    'paths': {'home': 'download'},\n",
    "}"
   ]
  },
  {
   "cell_type": "code",
   "execution_count": 3,
   "id": "ea354196",
   "metadata": {},
   "outputs": [
    {
     "name": "stdout",
     "output_type": "stream",
     "text": [
      "[youtube] Extracting URL: https://www.youtube.com/watch?v=rd-epKNOo0U\n",
      "[youtube] rd-epKNOo0U: Downloading webpage\n",
      "[youtube] rd-epKNOo0U: Downloading android player API JSON\n",
      "[youtube] rd-epKNOo0U: Downloading MPD manifest\n",
      "[info] rd-epKNOo0U: Downloading 1 format(s): 22\n",
      "[download] download\\rd-epKNOo0U.mp4 has already been downloaded\n",
      "[download] 100% of  406.00MiB\n"
     ]
    }
   ],
   "source": [
    "with YoutubeDL(ydl_opts) as ydl:\n",
    "    ydl.download('https://www.youtube.com/watch?v=rd-epKNOo0U')"
   ]
  }
 ],
 "metadata": {
  "kernelspec": {
   "display_name": "Python 3 (ipykernel)",
   "language": "python",
   "name": "python3"
  },
  "language_info": {
   "codemirror_mode": {
    "name": "ipython",
    "version": 3
   },
   "file_extension": ".py",
   "mimetype": "text/x-python",
   "name": "python",
   "nbconvert_exporter": "python",
   "pygments_lexer": "ipython3",
   "version": "3.8.3"
  }
 },
 "nbformat": 4,
 "nbformat_minor": 5
}
