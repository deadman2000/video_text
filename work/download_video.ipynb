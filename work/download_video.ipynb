{
 "cells": [
  {
   "cell_type": "raw",
   "id": "2c57a320",
   "metadata": {},
   "source": [
    "%pip install yt-dlp"
   ]
  },
  {
   "cell_type": "code",
   "execution_count": 4,
   "id": "d42c659c",
   "metadata": {},
   "outputs": [],
   "source": [
    "from yt_dlp import YoutubeDL"
   ]
  },
  {
   "cell_type": "code",
   "execution_count": 21,
   "id": "ea354196",
   "metadata": {},
   "outputs": [
    {
     "name": "stdout",
     "output_type": "stream",
     "text": [
      "[youtube] BaW_jenozKc: Downloading webpage\n",
      "[youtube] BaW_jenozKc: Downloading android player API JSON\n",
      "[info] BaW_jenozKc: Downloading 1 format(s): 22\n",
      "[download] Destination: download\\BaW_jenozKc.mp4\n",
      "[download] 100% of 1.74MiB in 00:00                  \n"
     ]
    }
   ],
   "source": [
    "ydl_opts = {\n",
    "    'format': 'mp4',\n",
    "    'restrictfilenames': True,\n",
    "    'outtmpl': '%(id)s.%(ext)s',\n",
    "    'paths': {'home': 'download'},\n",
    "}\n",
    "with YoutubeDL(ydl_opts) as ydl:\n",
    "    ydl.download('https://www.youtube.com/watch?v=Oevq2aSOs0M')"
   ]
  },
  {
   "cell_type": "markdown",
   "id": "90349b15",
   "metadata": {},
   "source": [
    "https://youtu.be/Oevq2aSOs0M"
   ]
  }
 ],
 "metadata": {
  "kernelspec": {
   "display_name": "Python 3 (ipykernel)",
   "language": "python",
   "name": "python3"
  },
  "language_info": {
   "codemirror_mode": {
    "name": "ipython",
    "version": 3
   },
   "file_extension": ".py",
   "mimetype": "text/x-python",
   "name": "python",
   "nbconvert_exporter": "python",
   "pygments_lexer": "ipython3",
   "version": "3.7.9"
  }
 },
 "nbformat": 4,
 "nbformat_minor": 5
}
