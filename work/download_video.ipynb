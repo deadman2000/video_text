{
 "cells": [
  {
   "cell_type": "raw",
   "id": "698ba561-083a-46ab-8241-5a1a76951bee",
   "metadata": {},
   "source": [
    "%pip install -U yt-dlp"
   ]
  },
  {
   "cell_type": "code",
   "execution_count": null,
   "id": "d42c659c",
   "metadata": {},
   "outputs": [],
   "source": [
    "from yt_dlp import YoutubeDL"
   ]
  },
  {
   "cell_type": "code",
   "execution_count": null,
   "id": "56707c00-30fd-4670-a272-7971f8686963",
   "metadata": {},
   "outputs": [],
   "source": [
    "ydl_opts = {\n",
    "    'format': 'mp4',\n",
    "    'restrictfilenames': True,\n",
    "    'outtmpl': '%(id)s.%(ext)s',\n",
    "    'paths': {'home': 'download'},\n",
    "}"
   ]
  },
  {
   "cell_type": "code",
   "execution_count": null,
   "id": "ea354196",
   "metadata": {},
   "outputs": [],
   "source": [
    "with YoutubeDL(ydl_opts) as ydl:\n",
    "    ydl.download('https://www.youtube.com/watch?v=q4rYhQpGmRI')"
   ]
  }
 ],
 "metadata": {
  "kernelspec": {
   "display_name": "Python 3 (ipykernel)",
   "language": "python",
   "name": "python3"
  },
  "language_info": {
   "codemirror_mode": {
    "name": "ipython",
    "version": 3
   },
   "file_extension": ".py",
   "mimetype": "text/x-python",
   "name": "python",
   "nbconvert_exporter": "python",
   "pygments_lexer": "ipython3"
  }
 },
 "nbformat": 4,
 "nbformat_minor": 5
}
