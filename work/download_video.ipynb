{
 "cells": [
  {
   "cell_type": "code",
   "execution_count": 1,
   "id": "d42c659c",
   "metadata": {},
   "outputs": [],
   "source": [
    "from yt_dlp import YoutubeDL"
   ]
  },
  {
   "cell_type": "code",
   "execution_count": 2,
   "id": "ea354196",
   "metadata": {},
   "outputs": [
    {
     "name": "stdout",
     "output_type": "stream",
     "text": [
      "[youtube] Oevq2aSOs0M: Downloading webpage\n",
      "[youtube] Oevq2aSOs0M: Downloading android player API JSON\n",
      "[info] Oevq2aSOs0M: Downloading 1 format(s): 18\n",
      "[download] download/Oevq2aSOs0M.mp4 has already been downloaded\n",
      "[download] 100% of 616.65MiB\n"
     ]
    }
   ],
   "source": [
    "ydl_opts = {\n",
    "    'format': 'mp4',\n",
    "    'restrictfilenames': True,\n",
    "    'outtmpl': '%(id)s.%(ext)s',\n",
    "    'paths': {'home': 'download'},\n",
    "}\n",
    "with YoutubeDL(ydl_opts) as ydl:\n",
    "    ydl.download('https://www.youtube.com/watch?v=Oevq2aSOs0M')"
   ]
  },
  {
   "cell_type": "markdown",
   "id": "90349b15",
   "metadata": {},
   "source": [
    "https://youtu.be/Oevq2aSOs0M"
   ]
  }
 ],
 "metadata": {
  "kernelspec": {
   "display_name": "Python 3 (ipykernel)",
   "language": "python",
   "name": "python3"
  },
  "language_info": {
   "codemirror_mode": {
    "name": "ipython",
    "version": 3
   },
   "file_extension": ".py",
   "mimetype": "text/x-python",
   "name": "python",
   "nbconvert_exporter": "python",
   "pygments_lexer": "ipython3",
   "version": "3.9.10"
  }
 },
 "nbformat": 4,
 "nbformat_minor": 5
}
