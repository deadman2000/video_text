{
 "cells": [
  {
   "cell_type": "code",
   "execution_count": 1,
   "metadata": {},
   "outputs": [],
   "source": [
    "import cv2\n",
    "from matplotlib import pyplot as plt\n",
    "from random import randint\n",
    "\n",
    "import download"
   ]
  },
  {
   "cell_type": "code",
   "execution_count": 2,
   "metadata": {},
   "outputs": [],
   "source": [
    "path = download.download_video('4Gh2fxBKpBY')"
   ]
  },
  {
   "cell_type": "code",
   "execution_count": 3,
   "metadata": {
    "scrolled": true
   },
   "outputs": [
    {
     "name": "stdout",
     "output_type": "stream",
     "text": [
      "fps = 29.97002997002997\n",
      "total_frames = 28545.0\n",
      "total = 952\n"
     ]
    }
   ],
   "source": [
    "vidcap = cv2.VideoCapture(path)\n",
    "fps = vidcap.get(cv2.CAP_PROP_FPS)\n",
    "print('fps =', fps)\n",
    "total_frames = vidcap.get(cv2.CAP_PROP_FRAME_COUNT)\n",
    "print('total_frames =', total_frames)\n",
    "total = int(total_frames // fps) # time in seconds\n",
    "print('total =', total)"
   ]
  },
  {
   "cell_type": "code",
   "execution_count": 4,
   "metadata": {},
   "outputs": [
    {
     "data": {
      "image/png": "[encoded data removed]",
      "text/plain": [
       "<Figure size 432x288 with 1 Axes>"
      ]
     },
     "metadata": {
      "needs_background": "light"
     },
     "output_type": "display_data"
    }
   ],
   "source": [
    "vidcap.set(cv2.CAP_PROP_POS_FRAMES, total_frames - 1)\n",
    "success, image = vidcap.read()\n",
    "\n",
    "plt.axis(\"off\")\n",
    "plt.imshow(cv2.cvtColor(image, cv2.COLOR_BGR2RGB))\n",
    "plt.show()"
   ]
  }
 ],
 "metadata": {
  "kernelspec": {
   "display_name": "Python 3 (ipykernel)",
   "language": "python",
   "name": "python3"
  },
  "language_info": {
   "codemirror_mode": {
    "name": "ipython",
    "version": 3
   },
   "file_extension": ".py",
   "mimetype": "text/x-python",
   "name": "python",
   "nbconvert_exporter": "python",
   "pygments_lexer": "ipython3",
   "version": "3.7.9"
  }
 },
 "nbformat": 4,
 "nbformat_minor": 4
}
