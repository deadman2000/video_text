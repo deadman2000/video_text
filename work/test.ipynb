{
 "cells": [
  {
   "cell_type": "code",
   "execution_count": null,
   "metadata": {},
   "outputs": [],
   "source": [
    "from matplotlib import pyplot as plt\n",
    "import cv2\n",
    "import numpy as np\n",
    "import pytesseract\n",
    "import download\n",
    "from extract import image_filter, extract_text\n",
    "import validations"
   ]
  },
  {
   "cell_type": "code",
   "execution_count": null,
   "metadata": {},
   "outputs": [],
   "source": [
    "def show(image):\n",
    "    plt.figure(figsize = (20,10))\n",
    "    plt.axis(\"off\")\n",
    "    plt.imshow(cv2.cvtColor(image, cv2.COLOR_BGR2RGB), interpolation='nearest')\n",
    "    plt.show()\n",
    "    \n",
    "def tess(image):\n",
    "    show(image)\n",
    "    print(extract_text(image))"
   ]
  },
  {
   "cell_type": "code",
   "execution_count": null,
   "metadata": {},
   "outputs": [],
   "source": [
    "def test(video_id, frame, text=None):\n",
    "    print('https://youtu.be/%s?t=%d' % (video_id, frame))\n",
    "    im = download.get_frame(video_id, frame)\n",
    "    tess(image_filter(im, 'h_600:thresh:unsharp:'))"
   ]
  },
  {
   "cell_type": "raw",
   "metadata": {},
   "source": [
    "https://youtu.be/yY0t8Wp28c8?t=5376"
   ]
  },
  {
   "cell_type": "code",
   "execution_count": null,
   "metadata": {
    "tags": []
   },
   "outputs": [],
   "source": [
    "test('yY0t8Wp28c8', 5376 + 2)"
   ]
  },
  {
   "cell_type": "raw",
   "metadata": {},
   "source": [
    "for r in validations.data:\n",
    "    test(**r)"
   ]
  }
 ],
 "metadata": {
  "kernelspec": {
   "display_name": "Python 3 (ipykernel)",
   "language": "python",
   "name": "python3"
  },
  "language_info": {
   "codemirror_mode": {
    "name": "ipython",
    "version": 3
   },
   "file_extension": ".py",
   "mimetype": "text/x-python",
   "name": "python",
   "nbconvert_exporter": "python",
   "pygments_lexer": "ipython3",
   "version": "3.8.3"
  }
 },
 "nbformat": 4,
 "nbformat_minor": 4
}
