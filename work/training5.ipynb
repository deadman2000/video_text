{
 "cells": [
  {
   "cell_type": "markdown",
   "id": "3fccf45f-3389-433e-a09b-38b637c7e579",
   "metadata": {},
   "source": [
    "https://towardsdatascience.com/simple-ocr-with-tesseract-a4341e4564b6"
   ]
  },
  {
   "cell_type": "code",
   "execution_count": 1,
   "id": "64e25ce0",
   "metadata": {},
   "outputs": [],
   "source": [
    "import os\n",
    "import shutil\n",
    "from PIL import Image\n",
    "from matplotlib import pyplot as plt\n",
    "import pytesseract\n",
    "import numpy as np\n",
    "import cv2"
   ]
  },
  {
   "cell_type": "code",
   "execution_count": 2,
   "id": "6ed407d1-479b-4269-a94b-97d2e83579d0",
   "metadata": {},
   "outputs": [],
   "source": [
    "shutil.rmtree('train')"
   ]
  },
  {
   "cell_type": "code",
   "execution_count": 3,
   "id": "6c21bc78",
   "metadata": {},
   "outputs": [],
   "source": [
    "font = list(range(0x7f))\n",
    "for a in range(0x20, 0x7f):\n",
    "    font[a] = Image.open(\"font/\" + hex(a)[2:].upper() + \".png\")"
   ]
  },
  {
   "cell_type": "code",
   "execution_count": 4,
   "id": "fa8641f1",
   "metadata": {
    "tags": []
   },
   "outputs": [],
   "source": [
    "def gen_image(text):\n",
    "    pad = 4\n",
    "    width = 0\n",
    "    for a in text:\n",
    "        width += font[ord(a)].size[0] + 1\n",
    "    width += pad*2\n",
    "    height = font[ord('A')].size[1] + pad*2\n",
    "    img = Image.new(mode = \"RGB\", size = (width, height), color = (255, 255, 255))\n",
    "    \n",
    "    boxes = []\n",
    "    left = pad\n",
    "    for a in text:\n",
    "        letter = font[ord(a)]\n",
    "        top = height - letter.height - pad\n",
    "        img.paste(letter, (left, pad))\n",
    "        boxes.append((a, left, pad - 2, left + letter.width - 1, height - pad + 2))\n",
    "        left += letter.size[0] + 1\n",
    "    return (img, boxes)"
   ]
  },
  {
   "cell_type": "code",
   "execution_count": 5,
   "id": "404f5b30-a6a4-4813-83c8-6d3b15db58e0",
   "metadata": {},
   "outputs": [
    {
     "data": {
      "text/plain": [
       "'!\"#$%&\\'()*+,-./0123456789:;<=>?@ABCDEFGHIJKLMNOPQRSTUVWXYZ[\\\\]^_`abcdefghijklmnopqrstuvwxyz{|}~'"
      ]
     },
     "execution_count": 5,
     "metadata": {},
     "output_type": "execute_result"
    }
   ],
   "source": [
    "text = ''\n",
    "for a in range(0x21, 0x7f):\n",
    "    text = text + chr(a)\n",
    "text"
   ]
  },
  {
   "cell_type": "code",
   "execution_count": 6,
   "id": "9f2d0d51",
   "metadata": {},
   "outputs": [
    {
     "data": {
      "image/png": "[encoded data removed]",
      "text/plain": [
       "<PIL.Image.Image image mode=RGB size=643x16 at 0x7F6F0CE98C40>"
      ]
     },
     "execution_count": 6,
     "metadata": {},
     "output_type": "execute_result"
    }
   ],
   "source": [
    "gen, boxes = gen_image(text)\n",
    "gen"
   ]
  },
  {
   "cell_type": "code",
   "execution_count": 7,
   "id": "f4c3c17d-cffd-4d2f-963d-b617f9a9fdba",
   "metadata": {},
   "outputs": [
    {
     "name": "stdout",
     "output_type": "stream",
     "text": [
      "CPU times: user 5.45 ms, sys: 17.7 ms, total: 23.2 ms\n",
      "Wall time: 487 ms\n"
     ]
    },
    {
     "data": {
      "text/plain": [
       "\"WH$BS'Cy*+,-. 0123456789:\\n\\n  \\n\\n-? @ABCDEFGHIJIKLMNOPORSTUYWXYZDN1*_‘abedef ghijkimnopgrstuvwxyz{]}”\\n\""
      ]
     },
     "execution_count": 7,
     "metadata": {},
     "output_type": "execute_result"
    }
   ],
   "source": [
    "%time pytesseract.image_to_string(gen)"
   ]
  },
  {
   "cell_type": "code",
   "execution_count": 8,
   "id": "f049dfa4-eabc-416a-96d5-af41eb7e0905",
   "metadata": {},
   "outputs": [],
   "source": [
    "boxes_lines = []\n",
    "#for params in boxes:\n",
    "#    boxes_lines.append('%s %d %d %d %d %d' % (*params, 0))"
   ]
  },
  {
   "cell_type": "markdown",
   "id": "84435650-5f1c-4005-a218-2be233ee6d70",
   "metadata": {},
   "source": [
    "Generate other size images"
   ]
  },
  {
   "cell_type": "code",
   "execution_count": 9,
   "id": "8b28b83a-90b9-4fbe-b235-551174b7a8b6",
   "metadata": {},
   "outputs": [],
   "source": [
    "os.makedirs(\"train\", exist_ok=True)"
   ]
  },
  {
   "cell_type": "code",
   "execution_count": 10,
   "id": "2578d3a3-ab1d-4829-a3e8-a369c99358ac",
   "metadata": {},
   "outputs": [],
   "source": [
    "pages = []\n",
    "page_ind = -1\n",
    "\n",
    "def add_page(sf, mode):\n",
    "    global page_ind\n",
    "    page_ind += 1\n",
    "    im = gen.resize((gen.width*sf, gen.height*sf), mode)\n",
    "    pages.append(im)\n",
    "    for params in boxes:\n",
    "        (c,l,t,r,b) = params\n",
    "        boxes_lines.append('%s %d %d %d %d %d' % (c, l*sf, t*sf, r*sf, b*sf, page_ind))"
   ]
  },
  {
   "cell_type": "code",
   "execution_count": 11,
   "id": "28512c96-e1e1-4368-920f-15f05d3eb4a3",
   "metadata": {},
   "outputs": [],
   "source": [
    "add_page(2, Image.ANTIALIAS)\n",
    "add_page(2, Image.NEAREST)\n",
    "add_page(3, Image.ANTIALIAS)\n",
    "add_page(3, Image.NEAREST)\n",
    "add_page(4, Image.ANTIALIAS)\n",
    "add_page(4, Image.NEAREST)"
   ]
  },
  {
   "cell_type": "code",
   "execution_count": 12,
   "id": "d84ed7f7-c310-4454-a64a-a4dc7a2d17e7",
   "metadata": {},
   "outputs": [],
   "source": [
    "with open('train/lb.font.exp0.box', 'w') as f:\n",
    "    for line in boxes_lines:\n",
    "        f.write(line)\n",
    "        f.write('\\n')"
   ]
  },
  {
   "cell_type": "code",
   "execution_count": 13,
   "id": "7c134888-e893-4848-ab5d-790a6aa0f73b",
   "metadata": {},
   "outputs": [],
   "source": [
    "# Merge tif\n",
    "#gen.save(\"train/lb.font.exp0.tif\", format=\"tiff\", append_images=pages, save_all=True)\n",
    "pages[0].save(\"train/lb.font.exp0.tif\", format=\"tiff\", append_images=pages[1:], save_all=True)"
   ]
  },
  {
   "cell_type": "code",
   "execution_count": 14,
   "id": "bb7d4970-11f3-466e-b6fa-da1b0c6de467",
   "metadata": {},
   "outputs": [],
   "source": [
    "with open('train/font_properties', 'w') as f:\n",
    "    f.write(\"font 0 0 0 0 0\")"
   ]
  },
  {
   "cell_type": "code",
   "execution_count": 15,
   "id": "c7ed0f54-d378-41ca-af16-6b3d7576e951",
   "metadata": {},
   "outputs": [
    {
     "name": "stdout",
     "output_type": "stream",
     "text": [
      "/home/jovyan/work/train\n"
     ]
    }
   ],
   "source": [
    "%cd train"
   ]
  },
  {
   "cell_type": "code",
   "execution_count": 16,
   "id": "5062c981-39b3-4ee6-86c0-8c97e09e279d",
   "metadata": {
    "tags": []
   },
   "outputs": [
    {
     "name": "stdout",
     "output_type": "stream",
     "text": [
      "Page 1\n",
      "Estimating resolution as 210\n",
      "row xheight=3, but median xheight = 4\n",
      "row xheight=10.9086, but median xheight = 4\n",
      "FAIL!\n",
      "APPLY_BOXES: boxfile line 29/= ((370,4),(384,28)): FAILURE! Couldn't find a matching blob\n",
      "APPLY_BOXES:\n",
      "   Boxes read from boxfile:      94\n",
      "   Boxes failed resegmentation:       1\n",
      "APPLY_BOXES: Unlabelled word at :Bounding box=(352,12)->(356,18)\n",
      "   Found 93 good blobs.\n",
      "   1 remaining unlabelled words deleted.\n",
      "Generated training data for 3 words\n",
      "Page 2\n",
      "Estimating resolution as 210\n",
      "row xheight=3, but median xheight = 4\n",
      "row xheight=10.9086, but median xheight = 4\n",
      "FAIL!\n",
      "APPLY_BOXES: boxfile line 29/= ((370,4),(384,28)): FAILURE! Couldn't find a matching blob\n",
      "APPLY_BOXES:\n",
      "   Boxes read from boxfile:      94\n",
      "   Boxes failed resegmentation:       1\n",
      "APPLY_BOXES: Unlabelled word at :Bounding box=(352,12)->(356,18)\n",
      "   Found 93 good blobs.\n",
      "   1 remaining unlabelled words deleted.\n",
      "Generated training data for 3 words\n",
      "Page 3\n",
      "Estimating resolution as 331\n",
      "APPLY_BOXES:\n",
      "   Boxes read from boxfile:      94\n",
      "   Found 94 good blobs.\n",
      "Generated training data for 4 words\n",
      "Page 4\n",
      "Estimating resolution as 309\n",
      "APPLY_BOXES:\n",
      "   Boxes read from boxfile:      94\n",
      "   Found 94 good blobs.\n",
      "Generated training data for 2 words\n",
      "Page 5\n",
      "Estimating resolution as 431\n",
      "APPLY_BOXES:\n",
      "   Boxes read from boxfile:      94\n",
      "   Found 94 good blobs.\n",
      "Generated training data for 4 words\n",
      "Page 6\n",
      "Estimating resolution as 409\n",
      "APPLY_BOXES:\n",
      "   Boxes read from boxfile:      94\n",
      "   Found 94 good blobs.\n",
      "Generated training data for 2 words\n"
     ]
    }
   ],
   "source": [
    "# Create a .tr file (training file)\n",
    "!tesseract lb.font.exp0.tif lb.font.exp0 nobatch box.train"
   ]
  },
  {
   "cell_type": "code",
   "execution_count": 17,
   "id": "116076d5-4fc2-4df5-8b33-b882be11e056",
   "metadata": {
    "tags": []
   },
   "outputs": [
    {
     "name": "stdout",
     "output_type": "stream",
     "text": [
      "Extracting unicharset from box file lb.font.exp0.box\n",
      "Wrote unicharset file unicharset\n"
     ]
    }
   ],
   "source": [
    "# Create a unicharset file\n",
    "!unicharset_extractor lb.font.exp0.box"
   ]
  },
  {
   "cell_type": "code",
   "execution_count": 23,
   "id": "89be5020-fafe-4aab-99d4-bb22d6339df5",
   "metadata": {},
   "outputs": [
    {
     "name": "stdout",
     "output_type": "stream",
     "text": [
      "USAGE: combine_lang_model\n",
      "  --lang_is_rtl  True if lang being processed is written right-to-left  (type:bool default:false)\n",
      "  --pass_through_recoder  If true, the recoder is a simple pass-through of the unicharset. Otherwise, potentially a compression of it  (type:bool default:false)\n",
      "  --input_unicharset  Filename with unicharset to complete and use in encoding  (type:string default:)\n",
      "  --script_dir  Directory name for input script unicharsets  (type:string default:)\n",
      "  --words  File listing words to use for the system dictionary  (type:string default:)\n",
      "  --puncs  File listing punctuation patterns  (type:string default:)\n",
      "  --numbers  File listing number patterns  (type:string default:)\n",
      "  --output_dir  Root directory for output files  (type:string default:)\n",
      "  --version_str  Version string to add to traineddata file  (type:string default:)\n",
      "  --lang  Name of language being processed  (type:string default:)\n"
     ]
    }
   ],
   "source": [
    "!combine_lang_model"
   ]
  },
  {
   "cell_type": "code",
   "execution_count": 21,
   "id": "1c19d86c-7ce0-4065-9e4e-da89cce16c3f",
   "metadata": {},
   "outputs": [
    {
     "name": "stdout",
     "output_type": "stream",
     "text": [
      "Must provide a --traineddata see training documentation\n"
     ]
    }
   ],
   "source": [
    "!lstmtraining -F font_properties -U unicharset -O lb.unicharset lb.font.exp0.tr"
   ]
  },
  {
   "cell_type": "raw",
   "id": "2f4d61d4-5073-47a8-834f-d3da2efdb065",
   "metadata": {
    "tags": []
   },
   "source": [
    "# Create a pffmtable, intemp file\n",
    "!mftraining -F font_properties -U unicharset -O lb.unicharset lb.font.exp0.tr"
   ]
  },
  {
   "cell_type": "raw",
   "id": "a8ed417e-b998-46f2-897f-4a90c87f628f",
   "metadata": {},
   "source": [
    "# Create a normproto file\n",
    "!cntraining lb.font.exp0.tr"
   ]
  },
  {
   "cell_type": "raw",
   "id": "dcbe4aa6-0dd3-4df6-8718-c03822919af6",
   "metadata": {},
   "source": [
    "os.rename('inttemp', 'lb.inttemp')\n",
    "os.rename('normproto', 'lb.normproto')\n",
    "os.rename('pffmtable', 'lb.pffmtable')\n",
    "os.rename('shapetable', 'lb.shapetable')"
   ]
  },
  {
   "cell_type": "raw",
   "id": "db3f3a1f-58a3-47ff-a052-f7467962d248",
   "metadata": {},
   "source": [
    "!combine_tessdata lb"
   ]
  },
  {
   "cell_type": "raw",
   "id": "1d41e4ba-f8cb-47c2-a0ac-31a0cb2699cd",
   "metadata": {},
   "source": [
    "%cd -"
   ]
  },
  {
   "cell_type": "raw",
   "id": "1eebd74a-5cf5-4799-92ba-0d35a0baa61d",
   "metadata": {},
   "source": [
    "cp lb.traineddata /usr/share/tesseract-ocr/4.00/tessdata/"
   ]
  },
  {
   "cell_type": "raw",
   "id": "7c4d9aaf-a773-46b4-be07-003604919da9",
   "metadata": {},
   "source": [
    "pytesseract.image_to_string(gen)"
   ]
  },
  {
   "cell_type": "raw",
   "id": "46203f6b-de63-450b-9101-30224a2ba9d8",
   "metadata": {},
   "source": [
    "pytesseract.image_to_string(gen, lang='lb')"
   ]
  }
 ],
 "metadata": {
  "kernelspec": {
   "display_name": "Python 3 (ipykernel)",
   "language": "python",
   "name": "python3"
  },
  "language_info": {
   "codemirror_mode": {
    "name": "ipython",
    "version": 3
   },
   "file_extension": ".py",
   "mimetype": "text/x-python",
   "name": "python",
   "nbconvert_exporter": "python",
   "pygments_lexer": "ipython3",
   "version": "3.9.10"
  }
 },
 "nbformat": 4,
 "nbformat_minor": 5
}
