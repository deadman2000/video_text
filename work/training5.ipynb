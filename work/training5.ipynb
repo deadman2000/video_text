{
 "cells": [
  {
   "cell_type": "markdown",
   "id": "b11484c4-68bf-4c1b-9972-4cc47ebb59c2",
   "metadata": {},
   "source": [
    "https://github.com/tesseract-ocr/tessdoc/blob/main/tess5/TrainingTesseract-5.md"
   ]
  },
  {
   "cell_type": "code",
   "execution_count": 1,
   "id": "64e25ce0",
   "metadata": {},
   "outputs": [],
   "source": [
    "import os\n",
    "import shutil\n",
    "from PIL import Image\n",
    "from matplotlib import pyplot as plt\n",
    "import pytesseract\n",
    "import numpy as np\n",
    "import cv2"
   ]
  },
  {
   "cell_type": "code",
   "execution_count": 2,
   "id": "6ed407d1-479b-4269-a94b-97d2e83579d0",
   "metadata": {},
   "outputs": [
    {
     "ename": "FileNotFoundError",
     "evalue": "[WinError 3] Системе не удается найти указанный путь: 'train'",
     "output_type": "error",
     "traceback": [
      "\u001b[1;31m---------------------------------------------------------------------------\u001b[0m",
      "\u001b[1;31mFileNotFoundError\u001b[0m                         Traceback (most recent call last)",
      "\u001b[1;32m<ipython-input-2-8916424fabc3>\u001b[0m in \u001b[0;36m<module>\u001b[1;34m\u001b[0m\n\u001b[1;32m----> 1\u001b[1;33m \u001b[0mshutil\u001b[0m\u001b[1;33m.\u001b[0m\u001b[0mrmtree\u001b[0m\u001b[1;33m(\u001b[0m\u001b[1;34m'train'\u001b[0m\u001b[1;33m)\u001b[0m\u001b[1;33m\u001b[0m\u001b[1;33m\u001b[0m\u001b[0m\n\u001b[0m",
      "\u001b[1;32mc:\\users\\deadman\\appdata\\local\\programs\\python\\python38\\lib\\shutil.py\u001b[0m in \u001b[0;36mrmtree\u001b[1;34m(path, ignore_errors, onerror)\u001b[0m\n\u001b[0;32m    735\u001b[0m             \u001b[1;31m# can't continue even if onerror hook returns\u001b[0m\u001b[1;33m\u001b[0m\u001b[1;33m\u001b[0m\u001b[1;33m\u001b[0m\u001b[0m\n\u001b[0;32m    736\u001b[0m             \u001b[1;32mreturn\u001b[0m\u001b[1;33m\u001b[0m\u001b[1;33m\u001b[0m\u001b[0m\n\u001b[1;32m--> 737\u001b[1;33m         \u001b[1;32mreturn\u001b[0m \u001b[0m_rmtree_unsafe\u001b[0m\u001b[1;33m(\u001b[0m\u001b[0mpath\u001b[0m\u001b[1;33m,\u001b[0m \u001b[0monerror\u001b[0m\u001b[1;33m)\u001b[0m\u001b[1;33m\u001b[0m\u001b[1;33m\u001b[0m\u001b[0m\n\u001b[0m\u001b[0;32m    738\u001b[0m \u001b[1;33m\u001b[0m\u001b[0m\n\u001b[0;32m    739\u001b[0m \u001b[1;31m# Allow introspection of whether or not the hardening against symlink\u001b[0m\u001b[1;33m\u001b[0m\u001b[1;33m\u001b[0m\u001b[1;33m\u001b[0m\u001b[0m\n",
      "\u001b[1;32mc:\\users\\deadman\\appdata\\local\\programs\\python\\python38\\lib\\shutil.py\u001b[0m in \u001b[0;36m_rmtree_unsafe\u001b[1;34m(path, onerror)\u001b[0m\n\u001b[0;32m    594\u001b[0m             \u001b[0mentries\u001b[0m \u001b[1;33m=\u001b[0m \u001b[0mlist\u001b[0m\u001b[1;33m(\u001b[0m\u001b[0mscandir_it\u001b[0m\u001b[1;33m)\u001b[0m\u001b[1;33m\u001b[0m\u001b[1;33m\u001b[0m\u001b[0m\n\u001b[0;32m    595\u001b[0m     \u001b[1;32mexcept\u001b[0m \u001b[0mOSError\u001b[0m\u001b[1;33m:\u001b[0m\u001b[1;33m\u001b[0m\u001b[1;33m\u001b[0m\u001b[0m\n\u001b[1;32m--> 596\u001b[1;33m         \u001b[0monerror\u001b[0m\u001b[1;33m(\u001b[0m\u001b[0mos\u001b[0m\u001b[1;33m.\u001b[0m\u001b[0mscandir\u001b[0m\u001b[1;33m,\u001b[0m \u001b[0mpath\u001b[0m\u001b[1;33m,\u001b[0m \u001b[0msys\u001b[0m\u001b[1;33m.\u001b[0m\u001b[0mexc_info\u001b[0m\u001b[1;33m(\u001b[0m\u001b[1;33m)\u001b[0m\u001b[1;33m)\u001b[0m\u001b[1;33m\u001b[0m\u001b[1;33m\u001b[0m\u001b[0m\n\u001b[0m\u001b[0;32m    597\u001b[0m         \u001b[0mentries\u001b[0m \u001b[1;33m=\u001b[0m \u001b[1;33m[\u001b[0m\u001b[1;33m]\u001b[0m\u001b[1;33m\u001b[0m\u001b[1;33m\u001b[0m\u001b[0m\n\u001b[0;32m    598\u001b[0m     \u001b[1;32mfor\u001b[0m \u001b[0mentry\u001b[0m \u001b[1;32min\u001b[0m \u001b[0mentries\u001b[0m\u001b[1;33m:\u001b[0m\u001b[1;33m\u001b[0m\u001b[1;33m\u001b[0m\u001b[0m\n",
      "\u001b[1;32mc:\\users\\deadman\\appdata\\local\\programs\\python\\python38\\lib\\shutil.py\u001b[0m in \u001b[0;36m_rmtree_unsafe\u001b[1;34m(path, onerror)\u001b[0m\n\u001b[0;32m    591\u001b[0m \u001b[1;32mdef\u001b[0m \u001b[0m_rmtree_unsafe\u001b[0m\u001b[1;33m(\u001b[0m\u001b[0mpath\u001b[0m\u001b[1;33m,\u001b[0m \u001b[0monerror\u001b[0m\u001b[1;33m)\u001b[0m\u001b[1;33m:\u001b[0m\u001b[1;33m\u001b[0m\u001b[1;33m\u001b[0m\u001b[0m\n\u001b[0;32m    592\u001b[0m     \u001b[1;32mtry\u001b[0m\u001b[1;33m:\u001b[0m\u001b[1;33m\u001b[0m\u001b[1;33m\u001b[0m\u001b[0m\n\u001b[1;32m--> 593\u001b[1;33m         \u001b[1;32mwith\u001b[0m \u001b[0mos\u001b[0m\u001b[1;33m.\u001b[0m\u001b[0mscandir\u001b[0m\u001b[1;33m(\u001b[0m\u001b[0mpath\u001b[0m\u001b[1;33m)\u001b[0m \u001b[1;32mas\u001b[0m \u001b[0mscandir_it\u001b[0m\u001b[1;33m:\u001b[0m\u001b[1;33m\u001b[0m\u001b[1;33m\u001b[0m\u001b[0m\n\u001b[0m\u001b[0;32m    594\u001b[0m             \u001b[0mentries\u001b[0m \u001b[1;33m=\u001b[0m \u001b[0mlist\u001b[0m\u001b[1;33m(\u001b[0m\u001b[0mscandir_it\u001b[0m\u001b[1;33m)\u001b[0m\u001b[1;33m\u001b[0m\u001b[1;33m\u001b[0m\u001b[0m\n\u001b[0;32m    595\u001b[0m     \u001b[1;32mexcept\u001b[0m \u001b[0mOSError\u001b[0m\u001b[1;33m:\u001b[0m\u001b[1;33m\u001b[0m\u001b[1;33m\u001b[0m\u001b[0m\n",
      "\u001b[1;31mFileNotFoundError\u001b[0m: [WinError 3] Системе не удается найти указанный путь: 'train'"
     ]
    }
   ],
   "source": [
    "shutil.rmtree('train')"
   ]
  },
  {
   "cell_type": "code",
   "execution_count": 3,
   "id": "6c21bc78",
   "metadata": {},
   "outputs": [],
   "source": [
    "font = list(range(0x7f))\n",
    "for a in range(0x20, 0x7f):\n",
    "    font[a] = Image.open(\"font/\" + hex(a)[2:].upper() + \".png\")"
   ]
  },
  {
   "cell_type": "code",
   "execution_count": 4,
   "id": "fa8641f1",
   "metadata": {
    "tags": []
   },
   "outputs": [],
   "source": [
    "def gen_image(text):\n",
    "    pad = 4\n",
    "    width = 0\n",
    "    for a in text:\n",
    "        width += font[ord(a)].size[0] + 1\n",
    "    width += pad*2\n",
    "    height = font[ord('A')].size[1] + pad*2\n",
    "    img = Image.new(mode = \"RGB\", size = (width, height), color = (255, 255, 255))\n",
    "    \n",
    "    boxes = []\n",
    "    left = pad\n",
    "    for a in text:\n",
    "        letter = font[ord(a)]\n",
    "        top = height - letter.height - pad\n",
    "        img.paste(letter, (left, pad))\n",
    "        boxes.append((a, left, pad - 2, left + letter.width - 1, height - pad + 2))\n",
    "        left += letter.size[0] + 1\n",
    "    return (img, boxes)"
   ]
  },
  {
   "cell_type": "code",
   "execution_count": 5,
   "id": "404f5b30-a6a4-4813-83c8-6d3b15db58e0",
   "metadata": {},
   "outputs": [
    {
     "data": {
      "text/plain": [
       "'!\"#$%&\\'()*+,-./0123456789:;<=>?@ABCDEFGHIJKLMNOPQRSTUVWXYZ[\\\\]^_`abcdefghijklmnopqrstuvwxyz{|}~'"
      ]
     },
     "execution_count": 5,
     "metadata": {},
     "output_type": "execute_result"
    }
   ],
   "source": [
    "text = ''\n",
    "for a in range(0x21, 0x7f):\n",
    "    text = text + chr(a)\n",
    "text"
   ]
  },
  {
   "cell_type": "code",
   "execution_count": 6,
   "id": "9f2d0d51",
   "metadata": {},
   "outputs": [
    {
     "data": {
      "image/png": "[encoded data removed]",
      "text/plain": [
       "<PIL.Image.Image image mode=RGB size=643x16 at 0x7A25610>"
      ]
     },
     "execution_count": 6,
     "metadata": {},
     "output_type": "execute_result"
    }
   ],
   "source": [
    "gen, boxes = gen_image(text)\n",
    "gen"
   ]
  },
  {
   "cell_type": "code",
   "execution_count": 7,
   "id": "f4c3c17d-cffd-4d2f-963d-b617f9a9fdba",
   "metadata": {},
   "outputs": [
    {
     "name": "stdout",
     "output_type": "stream",
     "text": [
      "Wall time: 846 ms\n"
     ]
    },
    {
     "data": {
      "text/plain": [
       "'VWH$BS’C*+,-./0123456789:}:\\n\\n-? @ABCDEFGHIJIKLMNOPQRSTUYWXY ZEN 1*_‘abedef ghijkimnopgrstuvwxyz{l}”\\n'"
      ]
     },
     "execution_count": 7,
     "metadata": {},
     "output_type": "execute_result"
    }
   ],
   "source": [
    "%time pytesseract.image_to_string(gen)"
   ]
  },
  {
   "cell_type": "code",
   "execution_count": 8,
   "id": "f049dfa4-eabc-416a-96d5-af41eb7e0905",
   "metadata": {},
   "outputs": [],
   "source": [
    "boxes_lines = []\n",
    "#for params in boxes:\n",
    "#    boxes_lines.append('%s %d %d %d %d %d' % (*params, 0))"
   ]
  },
  {
   "cell_type": "markdown",
   "id": "84435650-5f1c-4005-a218-2be233ee6d70",
   "metadata": {},
   "source": [
    "Generate other size images"
   ]
  },
  {
   "cell_type": "code",
   "execution_count": 9,
   "id": "8b28b83a-90b9-4fbe-b235-551174b7a8b6",
   "metadata": {},
   "outputs": [],
   "source": [
    "os.makedirs(\"train\", exist_ok=True)"
   ]
  },
  {
   "cell_type": "code",
   "execution_count": 10,
   "id": "2578d3a3-ab1d-4829-a3e8-a369c99358ac",
   "metadata": {},
   "outputs": [],
   "source": [
    "pages = []\n",
    "page_ind = -1\n",
    "\n",
    "def add_page(sf, mode):\n",
    "    global page_ind\n",
    "    page_ind += 1\n",
    "    im = gen.resize((gen.width*sf, gen.height*sf), mode)\n",
    "    pages.append(im)\n",
    "    for params in boxes:\n",
    "        (c,l,t,r,b) = params\n",
    "        boxes_lines.append('%s %d %d %d %d %d' % (c, l*sf, t*sf, r*sf, b*sf, page_ind))"
   ]
  },
  {
   "cell_type": "code",
   "execution_count": 11,
   "id": "28512c96-e1e1-4368-920f-15f05d3eb4a3",
   "metadata": {},
   "outputs": [],
   "source": [
    "add_page(2, Image.ANTIALIAS)\n",
    "add_page(2, Image.NEAREST)\n",
    "add_page(3, Image.ANTIALIAS)\n",
    "add_page(3, Image.NEAREST)\n",
    "add_page(4, Image.ANTIALIAS)\n",
    "add_page(4, Image.NEAREST)"
   ]
  },
  {
   "cell_type": "code",
   "execution_count": 12,
   "id": "d84ed7f7-c310-4454-a64a-a4dc7a2d17e7",
   "metadata": {},
   "outputs": [],
   "source": [
    "with open('train/lb.font.exp0.box', 'w') as f:\n",
    "    for line in boxes_lines:\n",
    "        f.write(line)\n",
    "        f.write('\\n')"
   ]
  },
  {
   "cell_type": "code",
   "execution_count": 13,
   "id": "7c134888-e893-4848-ab5d-790a6aa0f73b",
   "metadata": {},
   "outputs": [],
   "source": [
    "# Merge tif\n",
    "#gen.save(\"train/lb.font.exp0.tif\", format=\"tiff\", append_images=pages, save_all=True)\n",
    "pages[0].save(\"train/lb.font.exp0.tif\", format=\"tiff\", append_images=pages[1:], save_all=True)"
   ]
  },
  {
   "cell_type": "code",
   "execution_count": 14,
   "id": "bb7d4970-11f3-466e-b6fa-da1b0c6de467",
   "metadata": {},
   "outputs": [],
   "source": [
    "with open('train/font_properties', 'w') as f:\n",
    "    f.write(\"font 0 0 0 0 0\")"
   ]
  },
  {
   "cell_type": "code",
   "execution_count": 15,
   "id": "c7ed0f54-d378-41ca-af16-6b3d7576e951",
   "metadata": {},
   "outputs": [
    {
     "name": "stdout",
     "output_type": "stream",
     "text": [
      "C:\\Projects\\Translate\\video_text\\work\\train\n"
     ]
    }
   ],
   "source": [
    "%cd train"
   ]
  },
  {
   "cell_type": "code",
   "execution_count": 21,
   "id": "5062c981-39b3-4ee6-86c0-8c97e09e279d",
   "metadata": {
    "tags": []
   },
   "outputs": [
    {
     "name": "stderr",
     "output_type": "stream",
     "text": [
      "Page 1\n",
      "Estimating resolution as 210\n",
      "Page 2\n",
      "Estimating resolution as 210\n",
      "Page 3\n",
      "Estimating resolution as 331\n",
      "Loaded 2/2 lines (1-2) of document lb.font.exp0.lstmf\n",
      "Page 4\n",
      "Estimating resolution as 309\n",
      "Loaded 3/3 lines (1-3) of document lb.font.exp0.lstmf\n",
      "Page 5\n",
      "Estimating resolution as 431\n",
      "Loaded 4/4 lines (1-4) of document lb.font.exp0.lstmf\n",
      "Page 6\n",
      "Estimating resolution as 409\n",
      "Loaded 5/5 lines (1-5) of document lb.font.exp0.lstmf\n"
     ]
    }
   ],
   "source": [
    "# Create a .tr file (training file)\n",
    "!tesseract lb.font.exp0.tif lb.font.exp0 nobatch lstm.train"
   ]
  },
  {
   "cell_type": "code",
   "execution_count": 17,
   "id": "116076d5-4fc2-4df5-8b33-b882be11e056",
   "metadata": {
    "tags": []
   },
   "outputs": [
    {
     "name": "stderr",
     "output_type": "stream",
     "text": [
      "Extracting unicharset from box file lb.font.exp0.box\n",
      "Wrote unicharset file unicharset\n"
     ]
    }
   ],
   "source": [
    "# Create a unicharset file\n",
    "!unicharset_extractor lb.font.exp0.box"
   ]
  },
  {
   "cell_type": "code",
   "execution_count": 18,
   "id": "89be5020-fafe-4aab-99d4-bb22d6339df5",
   "metadata": {},
   "outputs": [
    {
     "name": "stdout",
     "output_type": "stream",
     "text": [
      "USAGE: combine_lang_model\n",
      "  --lang_is_rtl  True if lang being processed is written right-to-left  (type:bool default:false)\n",
      "  --pass_through_recoder  If true, the recoder is a simple pass-through of the unicharset. Otherwise, potentially a compression of it  (type:bool default:false)\n",
      "  --input_unicharset  Filename with unicharset to complete and use in encoding  (type:string default:)\n",
      "  --script_dir  Directory name for input script unicharsets  (type:string default:)\n",
      "  --words  File listing words to use for the system dictionary  (type:string default:)\n",
      "  --puncs  File listing punctuation patterns  (type:string default:)\n",
      "  --numbers  File listing number patterns  (type:string default:)\n",
      "  --output_dir  Root directory for output files  (type:string default:)\n",
      "  --version_str  Version string to add to traineddata file  (type:string default:)\n",
      "  --lang  Name of language being processed  (type:string default:)\n"
     ]
    }
   ],
   "source": [
    "!combine_lang_model"
   ]
  },
  {
   "cell_type": "code",
   "execution_count": 24,
   "id": "750e5e0a-78c4-4407-9cbf-d724edd20d59",
   "metadata": {},
   "outputs": [
    {
     "name": "stderr",
     "output_type": "stream",
     "text": [
      "Loaded unicharset of size 97 from file unicharset\n",
      "Setting unichar properties\n",
      "Setting script properties\n",
      "Failed to load script unicharset from:/Latin.unicharset\n",
      "Warning: properties incomplete for index 3 = !\n",
      "Warning: properties incomplete for index 4 = \"\n",
      "Warning: properties incomplete for index 5 = #\n",
      "Warning: properties incomplete for index 6 = $\n",
      "Warning: properties incomplete for index 7 = %\n",
      "Warning: properties incomplete for index 8 = &\n",
      "Warning: properties incomplete for index 9 = '\n",
      "Warning: properties incomplete for index 10 = (\n",
      "Warning: properties incomplete for index 11 = )\n",
      "Warning: properties incomplete for index 12 = *\n",
      "Warning: properties incomplete for index 13 = +\n",
      "Warning: properties incomplete for index 14 = ,\n",
      "Warning: properties incomplete for index 15 = -\n",
      "Warning: properties incomplete for index 16 = .\n",
      "Warning: properties incomplete for index 17 = /\n",
      "Warning: properties incomplete for index 18 = 0\n",
      "Warning: properties incomplete for index 19 = 1\n",
      "Warning: properties incomplete for index 20 = 2\n",
      "Warning: properties incomplete for index 21 = 3\n",
      "Warning: properties incomplete for index 22 = 4\n",
      "Warning: properties incomplete for index 23 = 5\n",
      "Warning: properties incomplete for index 24 = 6\n",
      "Warning: properties incomplete for index 25 = 7\n",
      "Warning: properties incomplete for index 26 = 8\n",
      "Warning: properties incomplete for index 27 = 9\n",
      "Warning: properties incomplete for index 28 = :\n",
      "Warning: properties incomplete for index 29 = ;\n",
      "Warning: properties incomplete for index 30 = <\n",
      "Warning: properties incomplete for index 31 = =\n",
      "Warning: properties incomplete for index 32 = >\n",
      "Warning: properties incomplete for index 33 = ?\n",
      "Warning: properties incomplete for index 34 = @\n",
      "Warning: properties incomplete for index 35 = A\n",
      "Warning: properties incomplete for index 36 = B\n",
      "Warning: properties incomplete for index 37 = C\n",
      "Warning: properties incomplete for index 38 = D\n",
      "Warning: properties incomplete for index 39 = E\n",
      "Warning: properties incomplete for index 40 = F\n",
      "Warning: properties incomplete for index 41 = G\n",
      "Warning: properties incomplete for index 42 = H\n",
      "Warning: properties incomplete for index 43 = I\n",
      "Warning: properties incomplete for index 44 = J\n",
      "Warning: properties incomplete for index 45 = K\n",
      "Warning: properties incomplete for index 46 = L\n",
      "Warning: properties incomplete for index 47 = M\n",
      "Warning: properties incomplete for index 48 = N\n",
      "Warning: properties incomplete for index 49 = O\n",
      "Warning: properties incomplete for index 50 = P\n",
      "Warning: properties incomplete for index 51 = Q\n",
      "Warning: properties incomplete for index 52 = R\n",
      "Warning: properties incomplete for index 53 = S\n",
      "Warning: properties incomplete for index 54 = T\n",
      "Warning: properties incomplete for index 55 = U\n",
      "Warning: properties incomplete for index 56 = V\n",
      "Warning: properties incomplete for index 57 = W\n",
      "Warning: properties incomplete for index 58 = X\n",
      "Warning: properties incomplete for index 59 = Y\n",
      "Warning: properties incomplete for index 60 = Z\n",
      "Warning: properties incomplete for index 61 = [\n",
      "Warning: properties incomplete for index 62 = \\\n",
      "Warning: properties incomplete for index 63 = ]\n",
      "Warning: properties incomplete for index 64 = ^\n",
      "Warning: properties incomplete for index 65 = _\n",
      "Warning: properties incomplete for index 66 = `\n",
      "Warning: properties incomplete for index 67 = a\n",
      "Warning: properties incomplete for index 68 = b\n",
      "Warning: properties incomplete for index 69 = c\n",
      "Warning: properties incomplete for index 70 = d\n",
      "Warning: properties incomplete for index 71 = e\n",
      "Warning: properties incomplete for index 72 = f\n",
      "Warning: properties incomplete for index 73 = g\n",
      "Warning: properties incomplete for index 74 = h\n",
      "Warning: properties incomplete for index 75 = i\n",
      "Warning: properties incomplete for index 76 = j\n",
      "Warning: properties incomplete for index 77 = k\n",
      "Warning: properties incomplete for index 78 = l\n",
      "Warning: properties incomplete for index 79 = m\n",
      "Warning: properties incomplete for index 80 = n\n",
      "Warning: properties incomplete for index 81 = o\n",
      "Warning: properties incomplete for index 82 = p\n",
      "Warning: properties incomplete for index 83 = q\n",
      "Warning: properties incomplete for index 84 = r\n",
      "Warning: properties incomplete for index 85 = s\n",
      "Warning: properties incomplete for index 86 = t\n",
      "Warning: properties incomplete for index 87 = u\n",
      "Warning: properties incomplete for index 88 = v\n",
      "Warning: properties incomplete for index 89 = w\n",
      "Warning: properties incomplete for index 90 = x\n",
      "Warning: properties incomplete for index 91 = y\n",
      "Warning: properties incomplete for index 92 = z\n",
      "Warning: properties incomplete for index 93 = {\n",
      "Warning: properties incomplete for index 94 = |\n",
      "Warning: properties incomplete for index 95 = }\n",
      "Warning: properties incomplete for index 96 = ~\n",
      "Config file is optional, continuing...\n",
      "Failed to read data from: /lb/lb.config\n",
      "Failed to read data from: /radical-stroke.txt\n",
      "Error reading radical code table /radical-stroke.txt\n"
     ]
    }
   ],
   "source": [
    "!combine_lang_model --input_unicharset unicharset --output_dir ./ --lang lb"
   ]
  },
  {
   "cell_type": "code",
   "execution_count": 20,
   "id": "44b88242-862e-46c0-aa47-54ebad3b95d1",
   "metadata": {},
   "outputs": [
    {
     "name": "stdout",
     "output_type": "stream",
     "text": [
      "USAGE: lstmtraining -v | --version | lstmtraining [.tr files ...]\n",
      "  --debug_level  Level of Trainer debugging  (type:int default:0)\n",
      "  --load_images  Load images with tr files  (type:int default:0)\n",
      "  --debug_interval  How often to display the alignment.  (type:int default:0)\n",
      "  --net_mode  Controls network behavior.  (type:int default:192)\n",
      "  --perfect_sample_delay  How many imperfect samples between perfect ones.  (type:int default:0)\n",
      "  --max_image_MB  Max memory to use for images.  (type:int default:6000)\n",
      "  --append_index  Index in continue_from Network at which to attach the new network defined by net_spec  (type:int default:-1)\n",
      "  --max_iterations  If set, exit after this many iterations  (type:int default:0)\n",
      "  --clusterconfig_min_samples_fraction  Min number of samples per proto as % of total  (type:double default:0.625)\n",
      "  --clusterconfig_max_illegal  Max percentage of samples in a cluster which have more than 1 feature in that cluster  (type:double default:0.05)\n",
      "  --clusterconfig_independence  Desired independence between dimensions  (type:double default:1)\n",
      "  --clusterconfig_confidence  Desired confidence in prototypes created  (type:double default:1e-06)\n",
      "  --target_error_rate  Final error rate in percent.  (type:double default:0.01)\n",
      "  --weight_range  Range of initial random weights.  (type:double default:0.1)\n",
      "  --learning_rate  Weight factor for new deltas.  (type:double default:0.001)\n",
      "  --momentum  Decay factor for repeating deltas.  (type:double default:0.5)\n",
      "  --adam_beta  Decay factor for repeating deltas.  (type:double default:0.999)\n",
      "  --reset_learning_rate  Resets all stored learning rates to the value specified by --learning_rate.  (type:bool default:false)\n",
      "  --stop_training  Just convert the training model to a runtime model.  (type:bool default:false)\n",
      "  --convert_to_int  Convert the recognition model to an integer model.  (type:bool default:false)\n",
      "  --sequential_training  Use the training files sequentially instead of round-robin.  (type:bool default:false)\n",
      "  --debug_network  Get info on distribution of weight values  (type:bool default:false)\n",
      "  --randomly_rotate  Train OSD and randomly turn training samples upside-down  (type:bool default:false)\n",
      "  --configfile  File to load more configs from  (type:string default:)\n",
      "  --D  Directory to write output files to  (type:string default:)\n",
      "  --F  File listing font properties  (type:string default:font_properties)\n",
      "  --X  File listing font xheights  (type:string default:)\n",
      "  --U  File to load unicharset from  (type:string default:unicharset)\n",
      "  --O  File to write unicharset to  (type:string default:)\n",
      "  --output_trainer  File to write trainer to  (type:string default:)\n",
      "  --test_ch  UTF8 test character string  (type:string default:)\n",
      "  --fonts_dir    (type:string default:)\n",
      "  --fontconfig_tmpdir    (type:string default:)\n",
      "  --net_spec  Network specification  (type:string default:)\n",
      "  --continue_from  Existing model to extend  (type:string default:)\n",
      "  --model_output  Basename for output models  (type:string default:lstmtrain)\n",
      "  --train_listfile  File listing training files in lstmf training format.  (type:string default:)\n",
      "  --eval_listfile  File listing eval files in lstmf training format.  (type:string default:)\n",
      "  --traineddata  Combined Dawgs/Unicharset/Recoder for language model  (type:string default:)\n",
      "  --old_traineddata  When changing the character set, this specifies the old character set that is to be replaced  (type:string default:)\n"
     ]
    }
   ],
   "source": [
    "!lstmtraining"
   ]
  },
  {
   "cell_type": "code",
   "execution_count": 19,
   "id": "1c19d86c-7ce0-4065-9e4e-da89cce16c3f",
   "metadata": {},
   "outputs": [
    {
     "name": "stderr",
     "output_type": "stream",
     "text": [
      "Must provide a --traineddata see training documentation\n"
     ]
    }
   ],
   "source": [
    "!lstmtraining -F font_properties -U unicharset -O lb.unicharset lb.font.exp0.tr"
   ]
  },
  {
   "cell_type": "raw",
   "id": "2f4d61d4-5073-47a8-834f-d3da2efdb065",
   "metadata": {
    "tags": []
   },
   "source": [
    "# Create a pffmtable, intemp file\n",
    "!mftraining -F font_properties -U unicharset -O lb.unicharset lb.font.exp0.tr"
   ]
  },
  {
   "cell_type": "raw",
   "id": "a8ed417e-b998-46f2-897f-4a90c87f628f",
   "metadata": {},
   "source": [
    "# Create a normproto file\n",
    "!cntraining lb.font.exp0.tr"
   ]
  },
  {
   "cell_type": "raw",
   "id": "dcbe4aa6-0dd3-4df6-8718-c03822919af6",
   "metadata": {},
   "source": [
    "os.rename('inttemp', 'lb.inttemp')\n",
    "os.rename('normproto', 'lb.normproto')\n",
    "os.rename('pffmtable', 'lb.pffmtable')\n",
    "os.rename('shapetable', 'lb.shapetable')"
   ]
  },
  {
   "cell_type": "raw",
   "id": "db3f3a1f-58a3-47ff-a052-f7467962d248",
   "metadata": {},
   "source": [
    "!combine_tessdata lb"
   ]
  },
  {
   "cell_type": "raw",
   "id": "1d41e4ba-f8cb-47c2-a0ac-31a0cb2699cd",
   "metadata": {},
   "source": [
    "%cd -"
   ]
  },
  {
   "cell_type": "raw",
   "id": "1eebd74a-5cf5-4799-92ba-0d35a0baa61d",
   "metadata": {},
   "source": [
    "cp lb.traineddata /usr/share/tesseract-ocr/4.00/tessdata/"
   ]
  },
  {
   "cell_type": "raw",
   "id": "7c4d9aaf-a773-46b4-be07-003604919da9",
   "metadata": {},
   "source": [
    "pytesseract.image_to_string(gen)"
   ]
  },
  {
   "cell_type": "raw",
   "id": "46203f6b-de63-450b-9101-30224a2ba9d8",
   "metadata": {},
   "source": [
    "pytesseract.image_to_string(gen, lang='lb')"
   ]
  }
 ],
 "metadata": {
  "kernelspec": {
   "display_name": "Python 3",
   "language": "python",
   "name": "python3"
  },
  "language_info": {
   "codemirror_mode": {
    "name": "ipython",
    "version": 3
   },
   "file_extension": ".py",
   "mimetype": "text/x-python",
   "name": "python",
   "nbconvert_exporter": "python",
   "pygments_lexer": "ipython3",
   "version": "3.8.5"
  }
 },
 "nbformat": 4,
 "nbformat_minor": 5
}
