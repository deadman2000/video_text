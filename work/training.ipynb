{
 "cells": [
  {
   "cell_type": "code",
   "execution_count": 1,
   "id": "64e25ce0",
   "metadata": {},
   "outputs": [],
   "source": [
    "from PIL import Image"
   ]
  },
  {
   "cell_type": "code",
   "execution_count": 22,
   "id": "6c21bc78",
   "metadata": {},
   "outputs": [],
   "source": [
    "font = list(range(0x7f))\n",
    "for a in range(0x20, 0x7f):\n",
    "    font[a] = Image.open(\"font/\" + hex(a)[2:] + \".png\")"
   ]
  },
  {
   "cell_type": "code",
   "execution_count": 25,
   "id": "fa8641f1",
   "metadata": {},
   "outputs": [],
   "source": [
    "def gen_image(text):\n",
    "    width = 0\n",
    "    for a in text:\n",
    "        width += font[ord(a)].size[0] + 1\n",
    "    height = font[ord('A')].size[1]\n",
    "    img = Image.new(mode = \"RGBA\", size = (width, height), color = (255, 255, 255, 100))\n",
    "    \n",
    "    left = 0\n",
    "    for a in text:\n",
    "        letter = font[ord(a)]\n",
    "        img.paste(letter, (left, img.size[1] - height))\n",
    "        left += letter.size[0] + 1\n",
    "    return img"
   ]
  },
  {
   "cell_type": "code",
   "execution_count": 27,
   "id": "9f2d0d51",
   "metadata": {},
   "outputs": [
    {
     "data": {
      "image/png": "[encoded data removed]",
      "text/plain": [
       "<PIL.Image.Image image mode=RGBA size=73x8 at 0x659D288>"
      ]
     },
     "execution_count": 27,
     "metadata": {},
     "output_type": "execute_result"
    }
   ],
   "source": [
    "gen_image('ABCDEFG& ?')"
   ]
  }
 ],
 "metadata": {
  "kernelspec": {
   "display_name": "Python 3 (ipykernel)",
   "language": "python",
   "name": "python3"
  },
  "language_info": {
   "codemirror_mode": {
    "name": "ipython",
    "version": 3
   },
   "file_extension": ".py",
   "mimetype": "text/x-python",
   "name": "python",
   "nbconvert_exporter": "python",
   "pygments_lexer": "ipython3",
   "version": "3.7.9"
  }
 },
 "nbformat": 4,
 "nbformat_minor": 5
}
