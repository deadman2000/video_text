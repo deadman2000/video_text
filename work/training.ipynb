{
 "cells": [
  {
   "cell_type": "markdown",
   "id": "3fccf45f-3389-433e-a09b-38b637c7e579",
   "metadata": {},
   "source": [
    "https://towardsdatascience.com/simple-ocr-with-tesseract-a4341e4564b6"
   ]
  },
  {
   "cell_type": "code",
   "execution_count": 1,
   "id": "64e25ce0",
   "metadata": {},
   "outputs": [],
   "source": [
    "import os\n",
    "from PIL import Image\n",
    "from matplotlib import pyplot as plt\n",
    "import pytesseract\n",
    "import numpy as np\n",
    "import cv2"
   ]
  },
  {
   "cell_type": "code",
   "execution_count": 2,
   "id": "6c21bc78",
   "metadata": {},
   "outputs": [],
   "source": [
    "font = list(range(0x7f))\n",
    "for a in range(0x20, 0x7f):\n",
    "    font[a] = Image.open(\"font/\" + hex(a)[2:] + \".png\")"
   ]
  },
  {
   "cell_type": "code",
   "execution_count": 3,
   "id": "fa8641f1",
   "metadata": {
    "tags": []
   },
   "outputs": [],
   "source": [
    "def gen_image(text):\n",
    "    pad = 4\n",
    "    width = 0\n",
    "    for a in text:\n",
    "        width += font[ord(a)].size[0] + 1\n",
    "    width += pad*2\n",
    "    height = font[ord('A')].size[1] + pad*2\n",
    "    img = Image.new(mode = \"RGB\", size = (width, height), color = (255, 255, 255))\n",
    "    \n",
    "    boxes = []\n",
    "    left = pad\n",
    "    for a in text:\n",
    "        letter = font[ord(a)]\n",
    "        top = height - letter.height - pad\n",
    "        img.paste(letter, (left, pad))\n",
    "        boxes.append((a, left, top, left + letter.width, height - pad))\n",
    "        left += letter.size[0] + 1\n",
    "    return (img, boxes)"
   ]
  },
  {
   "cell_type": "code",
   "execution_count": 4,
   "id": "404f5b30-a6a4-4813-83c8-6d3b15db58e0",
   "metadata": {},
   "outputs": [
    {
     "data": {
      "text/plain": [
       "'!\"#$%&\\'()*+,-./0123456789:;<=>?@ABCDEFGHIJKLMNOPQRSTUVWXYZ[\\\\]^_`abcdefghijklmnopqrstuvwxyz{|}~'"
      ]
     },
     "execution_count": 4,
     "metadata": {},
     "output_type": "execute_result"
    }
   ],
   "source": [
    "text = ''\n",
    "for a in range(0x21, 0x7f):\n",
    "    text = text + chr(a)\n",
    "text"
   ]
  },
  {
   "cell_type": "code",
   "execution_count": 5,
   "id": "9f2d0d51",
   "metadata": {},
   "outputs": [
    {
     "data": {
      "image/png": "[encoded data removed]",
      "text/plain": [
       "<PIL.Image.Image image mode=RGB size=643x16 at 0x4FB4CD0>"
      ]
     },
     "execution_count": 5,
     "metadata": {},
     "output_type": "execute_result"
    }
   ],
   "source": [
    "gen, boxes = gen_image(text)\n",
    "gen"
   ]
  },
  {
   "cell_type": "code",
   "execution_count": 6,
   "id": "f4c3c17d-cffd-4d2f-963d-b617f9a9fdba",
   "metadata": {},
   "outputs": [
    {
     "name": "stdout",
     "output_type": "stream",
     "text": [
      "Wall time: 154 ms\n"
     ]
    },
    {
     "data": {
      "text/plain": [
       "'VWH$BS’C*+,-./0123456789:}:\\n\\n-? @ABCDEFGHIJIKLMNOPQRSTUYWXY ZEN 1*_‘abedef ghijkimnopgrstuvwxyz{l}”\\n'"
      ]
     },
     "execution_count": 6,
     "metadata": {},
     "output_type": "execute_result"
    }
   ],
   "source": [
    "%time pytesseract.image_to_string(gen)"
   ]
  },
  {
   "cell_type": "code",
   "execution_count": 7,
   "id": "f049dfa4-eabc-416a-96d5-af41eb7e0905",
   "metadata": {},
   "outputs": [],
   "source": [
    "boxes_lines = []\n",
    "for params in boxes:\n",
    "    boxes_lines.append('%s %d %d %d %d %d' % (*params, 0))"
   ]
  },
  {
   "cell_type": "markdown",
   "id": "84435650-5f1c-4005-a218-2be233ee6d70",
   "metadata": {},
   "source": [
    "Generate other size images"
   ]
  },
  {
   "cell_type": "code",
   "execution_count": 8,
   "id": "8b28b83a-90b9-4fbe-b235-551174b7a8b6",
   "metadata": {},
   "outputs": [],
   "source": [
    "os.makedirs(\"train\", exist_ok=True)"
   ]
  },
  {
   "cell_type": "code",
   "execution_count": 9,
   "id": "2578d3a3-ab1d-4829-a3e8-a369c99358ac",
   "metadata": {},
   "outputs": [],
   "source": [
    "pages = []\n",
    "page_ind = 0\n",
    "\n",
    "def add_page(sf, mode):\n",
    "    global page_ind\n",
    "    page_ind += 1\n",
    "    im = gen.resize((gen.width*sf, gen.height*sf), mode)\n",
    "    pages.append(im)\n",
    "    for params in boxes:\n",
    "        (c,l,t,r,b) = params\n",
    "        boxes_lines.append('%s %d %d %d %d %d' % (c, l*sf, t*sf, r*sf, b*sf, page_ind))"
   ]
  },
  {
   "cell_type": "code",
   "execution_count": 10,
   "id": "28512c96-e1e1-4368-920f-15f05d3eb4a3",
   "metadata": {},
   "outputs": [],
   "source": [
    "add_page(2, Image.ANTIALIAS)\n",
    "add_page(2, Image.NEAREST)\n",
    "add_page(3, Image.ANTIALIAS)\n",
    "add_page(3, Image.NEAREST)\n",
    "add_page(4, Image.ANTIALIAS)\n",
    "add_page(4, Image.NEAREST)"
   ]
  },
  {
   "cell_type": "code",
   "execution_count": 11,
   "id": "d84ed7f7-c310-4454-a64a-a4dc7a2d17e7",
   "metadata": {},
   "outputs": [],
   "source": [
    "with open('train/lb.font.exp0.box', 'w') as f:\n",
    "    for line in boxes_lines:\n",
    "        f.write(line)\n",
    "        f.write('\\n')"
   ]
  },
  {
   "cell_type": "code",
   "execution_count": 12,
   "id": "7c134888-e893-4848-ab5d-790a6aa0f73b",
   "metadata": {},
   "outputs": [],
   "source": [
    "# Merge tif\n",
    "gen.save(\"train/lb.font.exp0.tif\", format=\"tiff\", append_images=pages, save_all=True)"
   ]
  },
  {
   "cell_type": "code",
   "execution_count": 22,
   "id": "bb7d4970-11f3-466e-b6fa-da1b0c6de467",
   "metadata": {},
   "outputs": [],
   "source": [
    "with open('train/font_properties', 'w') as f:\n",
    "    f.write(\"font 0 0 0 0 0\")"
   ]
  },
  {
   "cell_type": "code",
   "execution_count": 23,
   "id": "c7ed0f54-d378-41ca-af16-6b3d7576e951",
   "metadata": {},
   "outputs": [
    {
     "name": "stdout",
     "output_type": "stream",
     "text": [
      "C:\\Projects\\Translate\\video_text\\work\\train\n"
     ]
    }
   ],
   "source": [
    "%cd train"
   ]
  },
  {
   "cell_type": "raw",
   "id": "30c2cfd4-0e40-4faa-bc2b-02cd3a370348",
   "metadata": {},
   "source": [
    "!tesseract --psm 6 --oem 3 lb.font.exp0.tif lb.font.exp0 makebox"
   ]
  },
  {
   "cell_type": "code",
   "execution_count": 24,
   "id": "5062c981-39b3-4ee6-86c0-8c97e09e279d",
   "metadata": {
    "tags": []
   },
   "outputs": [
    {
     "name": "stderr",
     "output_type": "stream",
     "text": [
      "Page 1\n",
      "Estimating resolution as 111\n",
      "FAIL!\n",
      "APPLY_BOXES: boxfile line 2/\" ((7,10),(12,12)): FAILURE! Couldn't find a matching blob\n",
      "FAIL!\n",
      "APPLY_BOXES: boxfile line 12/, ((77,3),(80,12)): FAILURE! Couldn't find a matching blob\n",
      "FAIL!\n",
      "APPLY_BOXES: boxfile line 13/- ((81,4),(87,12)): FAILURE! Couldn't find a matching blob\n",
      "FAIL!\n",
      "APPLY_BOXES: boxfile line 14/. ((88,3),(90,12)): FAILURE! Couldn't find a matching blob\n",
      "FAIL!\n",
      "APPLY_BOXES: boxfile line 26/: ((171,5),(173,12)): FAILURE! Couldn't find a matching blob\n",
      "FAIL!\n",
      "APPLY_BOXES: boxfile line 28/< ((178,3),(184,12)): FAILURE! Couldn't find a matching blob\n",
      "FAIL!\n",
      "APPLY_BOXES: boxfile line 29/= ((185,6),(193,12)): FAILURE! Couldn't find a matching blob\n",
      "FAIL!\n",
      "APPLY_BOXES: boxfile line 30/> ((194,3),(200,12)): FAILURE! Couldn't find a matching blob\n",
      "APPLY_BOXES:\n",
      "   Boxes read from boxfile:      94\n",
      "   Boxes failed resegmentation:       8\n",
      "APPLY_BOXES: Unlabelled word at :Bounding box=(178,3)->(183,12)\n",
      "APPLY_BOXES: Unlabelled word at :Bounding box=(194,3)->(199,12)\n",
      "   Found 86 good blobs.\n",
      "   2 remaining unlabelled words deleted.\n",
      "Generated training data for 3 words\n",
      "Page 2\n",
      "Estimating resolution as 210\n",
      "row xheight=3, but median xheight = 4\n",
      "row xheight=10.9086, but median xheight = 4\n",
      "FAIL!\n",
      "APPLY_BOXES: boxfile line 29/= ((370,12),(386,24)): FAILURE! Couldn't find a matching blob\n",
      "APPLY_BOXES:\n",
      "   Boxes read from boxfile:      94\n",
      "   Boxes failed resegmentation:       1\n",
      "APPLY_BOXES: Unlabelled word at :Bounding box=(352,12)->(356,18)\n",
      "   Found 93 good blobs.\n",
      "   1 remaining unlabelled words deleted.\n",
      "Generated training data for 3 words\n",
      "Page 3\n",
      "Estimating resolution as 210\n",
      "row xheight=3, but median xheight = 4\n",
      "row xheight=10.9086, but median xheight = 4\n",
      "FAIL!\n",
      "APPLY_BOXES: boxfile line 29/= ((370,12),(386,24)): FAILURE! Couldn't find a matching blob\n",
      "APPLY_BOXES:\n",
      "   Boxes read from boxfile:      94\n",
      "   Boxes failed resegmentation:       1\n",
      "APPLY_BOXES: Unlabelled word at :Bounding box=(352,12)->(356,18)\n",
      "   Found 93 good blobs.\n",
      "   1 remaining unlabelled words deleted.\n",
      "Generated training data for 3 words\n",
      "Page 4\n",
      "Estimating resolution as 331\n",
      "APPLY_BOXES:\n",
      "   Boxes read from boxfile:      94\n",
      "   Found 94 good blobs.\n",
      "Generated training data for 4 words\n",
      "Page 5\n",
      "Estimating resolution as 309\n",
      "APPLY_BOXES:\n",
      "   Boxes read from boxfile:      94\n",
      "   Found 94 good blobs.\n",
      "Generated training data for 2 words\n",
      "Page 6\n",
      "Estimating resolution as 431\n",
      "APPLY_BOXES:\n",
      "   Boxes read from boxfile:      94\n",
      "   Found 94 good blobs.\n",
      "Generated training data for 4 words\n",
      "Page 7\n",
      "Estimating resolution as 409\n",
      "APPLY_BOXES:\n",
      "   Boxes read from boxfile:      94\n",
      "   Found 94 good blobs.\n",
      "Generated training data for 2 words\n"
     ]
    }
   ],
   "source": [
    "# Create a .tr file (training file)\n",
    "!tesseract lb.font.exp0.tif lb.font.exp0 nobatch box.train"
   ]
  },
  {
   "cell_type": "code",
   "execution_count": 25,
   "id": "116076d5-4fc2-4df5-8b33-b882be11e056",
   "metadata": {
    "tags": []
   },
   "outputs": [
    {
     "name": "stderr",
     "output_type": "stream",
     "text": [
      "Extracting unicharset from box file lb.font.exp0.box\n",
      "Wrote unicharset file unicharset\n"
     ]
    }
   ],
   "source": [
    "# Create a unicharset file\n",
    "!unicharset_extractor lb.font.exp0.box"
   ]
  },
  {
   "cell_type": "code",
   "execution_count": 29,
   "id": "9e679ea2-150c-426a-99f2-41b3e0e0d23e",
   "metadata": {},
   "outputs": [],
   "source": [
    "# Create a shapetable file\n",
    "!shapeclustering -F font_properties -U unicharset -O lb.unicharset lb.font.exp0.tr"
   ]
  },
  {
   "cell_type": "code",
   "execution_count": 39,
   "id": "20e721b7-27c6-4671-ad79-ebaf3b761d81",
   "metadata": {
    "collapsed": true,
    "jupyter": {
     "outputs_hidden": true
    },
    "tags": []
   },
   "outputs": [
    {
     "name": "stderr",
     "output_type": "stream",
     "text": [
      "Warning: No shape table file present: shapetable\n",
      "Reading lb.font.exp0.trecho ...\n",
      "Failed to open tr file: lb.font.exp0.trecho\n",
      "Flat shape table summary: Number of shapes = 0 max unichars = 0 number with multiple unichars = 0\n",
      "Warning: no protos/configs for Joined in CreateIntTemplates()\n",
      "Warning: no protos/configs for |Broken|0|1 in CreateIntTemplates()\n",
      "Warning: no protos/configs for W in CreateIntTemplates()\n",
      "Warning: no protos/configs for G in CreateIntTemplates()\n",
      "Warning: no protos/configs for ( in CreateIntTemplates()\n",
      "Warning: no protos/configs for C in CreateIntTemplates()\n",
      "Warning: no protos/configs for y in CreateIntTemplates()\n",
      "Warning: no protos/configs for * in CreateIntTemplates()\n",
      "Warning: no protos/configs for + in CreateIntTemplates()\n",
      "Warning: no protos/configs for , in CreateIntTemplates()\n",
      "Warning: no protos/configs for - in CreateIntTemplates()\n",
      "Warning: no protos/configs for . in CreateIntTemplates()\n",
      "Warning: no protos/configs for 0 in CreateIntTemplates()\n",
      "Warning: no protos/configs for 1 in CreateIntTemplates()\n",
      "Warning: no protos/configs for 2 in CreateIntTemplates()\n",
      "Warning: no protos/configs for 3 in CreateIntTemplates()\n",
      "Warning: no protos/configs for 4 in CreateIntTemplates()\n",
      "Warning: no protos/configs for 5 in CreateIntTemplates()\n",
      "Warning: no protos/configs for 6 in CreateIntTemplates()\n",
      "Warning: no protos/configs for 7 in CreateIntTemplates()\n",
      "Warning: no protos/configs for 9 in CreateIntTemplates()\n",
      "Warning: no protos/configs for : in CreateIntTemplates()\n",
      "Warning: no protos/configs for < in CreateIntTemplates()\n",
      "Warning: no protos/configs for = in CreateIntTemplates()\n",
      "Warning: no protos/configs for > in CreateIntTemplates()\n",
      "Warning: no protos/configs for ? in CreateIntTemplates()\n",
      "Warning: no protos/configs for @ in CreateIntTemplates()\n",
      "Warning: no protos/configs for A in CreateIntTemplates()\n",
      "Warning: no protos/configs for B in CreateIntTemplates()\n",
      "Warning: no protos/configs for D in CreateIntTemplates()\n",
      "Warning: no protos/configs for E in CreateIntTemplates()\n",
      "Warning: no protos/configs for F in CreateIntTemplates()\n",
      "Warning: no protos/configs for H in CreateIntTemplates()\n",
      "Warning: no protos/configs for I in CreateIntTemplates()\n",
      "Warning: no protos/configs for J in CreateIntTemplates()\n",
      "Warning: no protos/configs for K in CreateIntTemplates()\n",
      "Warning: no protos/configs for L in CreateIntTemplates()\n",
      "Warning: no protos/configs for M in CreateIntTemplates()\n",
      "Warning: no protos/configs for N in CreateIntTemplates()\n",
      "Warning: no protos/configs for O in CreateIntTemplates()\n",
      "Warning: no protos/configs for P in CreateIntTemplates()\n",
      "Warning: no protos/configs for R in CreateIntTemplates()\n",
      "Warning: no protos/configs for S in CreateIntTemplates()\n",
      "Warning: no protos/configs for T in CreateIntTemplates()\n",
      "Warning: no protos/configs for U in CreateIntTemplates()\n",
      "Warning: no protos/configs for Y in CreateIntTemplates()\n",
      "Warning: no protos/configs for Z in CreateIntTemplates()\n",
      "Warning: no protos/configs for _ in CreateIntTemplates()\n",
      "Warning: no protos/configs for вЂ� in CreateIntTemplates()\n",
      "Warning: no protos/configs for a in CreateIntTemplates()\n",
      "Warning: no protos/configs for b in CreateIntTemplates()\n",
      "Warning: no protos/configs for c in CreateIntTemplates()\n",
      "Warning: no protos/configs for d in CreateIntTemplates()\n",
      "Warning: no protos/configs for e in CreateIntTemplates()\n",
      "Warning: no protos/configs for f in CreateIntTemplates()\n",
      "Warning: no protos/configs for g in CreateIntTemplates()\n",
      "Warning: no protos/configs for h in CreateIntTemplates()\n",
      "Warning: no protos/configs for i in CreateIntTemplates()\n",
      "Warning: no protos/configs for k in CreateIntTemplates()\n",
      "Warning: no protos/configs for m in CreateIntTemplates()\n",
      "Warning: no protos/configs for n in CreateIntTemplates()\n",
      "Warning: no protos/configs for o in CreateIntTemplates()\n",
      "Warning: no protos/configs for p in CreateIntTemplates()\n",
      "Warning: no protos/configs for q in CreateIntTemplates()\n",
      "Warning: no protos/configs for r in CreateIntTemplates()\n",
      "Warning: no protos/configs for s in CreateIntTemplates()\n",
      "Warning: no protos/configs for t in CreateIntTemplates()\n",
      "Warning: no protos/configs for u in C\n",
      "This application has requested the Runtime to terminate it in an unusual way.\n",
      "Please contact the application's support team for more information.\n",
      "reateIntTemplates()\n",
      "Warning: no protos/configs for w in CreateIntTemplates()\n",
      "Warning: no protos/configs for x in CreateIntTemplates()\n",
      "Warning: no protos/configs for { in CreateIntTemplates()\n",
      "Warning: no protos/configs for l in CreateIntTemplates()\n",
      "Warning: no protos/configs for } in CreateIntTemplates()\n",
      "Warning: no protos/configs for ~ in CreateIntTemplates()\n",
      "Warning: no protos/configs for 8 in CreateIntTemplates()\n",
      "Warning: no protos/configs for V in CreateIntTemplates()\n",
      "Warning: no protos/configs for В° in CreateIntTemplates()\n",
      "Warning: no protos/configs for j in CreateIntTemplates()\n",
      "Warning: no protos/configs for ] in CreateIntTemplates()\n",
      "Class->NumConfigs == this->fontset_table_.at(Class->font_set_id).size():Error:Assert failed:in file ../../../src/classify/intproto.cpp, line 948\n"
     ]
    }
   ],
   "source": [
    "# Create a pffmtable, intemp file\n",
    "!mftraining -F font_properties -U unicharset -O lb.unicharset lb.font.exp0.trecho"
   ]
  },
  {
   "cell_type": "code",
   "execution_count": 41,
   "id": "4f4459e7-3a6d-4d13-bf09-9b84a841179f",
   "metadata": {},
   "outputs": [],
   "source": [
    "# Create a normproto file\n",
    "!cntraining lb.font.exp0.tr"
   ]
  },
  {
   "cell_type": "code",
   "execution_count": 21,
   "id": "1353b9ea-7168-49d3-b2a8-33d11a94829a",
   "metadata": {},
   "outputs": [
    {
     "name": "stdout",
     "output_type": "stream",
     "text": [
      "C:\\Projects\\Translate\\video_text\\work\n"
     ]
    }
   ],
   "source": [
    "%cd -"
   ]
  }
 ],
 "metadata": {
  "kernelspec": {
   "display_name": "Python 3",
   "language": "python",
   "name": "python3"
  },
  "language_info": {
   "codemirror_mode": {
    "name": "ipython",
    "version": 3
   },
   "file_extension": ".py",
   "mimetype": "text/x-python",
   "name": "python",
   "nbconvert_exporter": "python",
   "pygments_lexer": "ipython3",
   "version": "3.8.5"
  }
 },
 "nbformat": 4,
 "nbformat_minor": 5
}
