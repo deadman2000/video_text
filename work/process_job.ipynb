{
 "cells": [
  {
   "cell_type": "code",
   "execution_count": null,
   "id": "bc1d1332-2cfa-4530-918e-d1f8b490bb2b",
   "metadata": {},
   "outputs": [],
   "source": [
    "import requests\n",
    "from extract import unsharp, thresh, gray, scale, blur, process_text, extract_text\n",
    "import download\n",
    "import uuid\n",
    "\n",
    "from datetime import datetime"
   ]
  },
  {
   "cell_type": "code",
   "execution_count": null,
   "id": "8f798e78-a43a-4018-b4f6-5f48a5b93c9b",
   "metadata": {},
   "outputs": [],
   "source": [
    "str(uuid.uuid1())"
   ]
  },
  {
   "cell_type": "code",
   "execution_count": null,
   "id": "8c208dfb-b90f-408e-8013-264523433b17",
   "metadata": {},
   "outputs": [],
   "source": [
    "url = 'http://localhost:5000'\n",
    "runner_id = 'jupyter'"
   ]
  },
  {
   "cell_type": "code",
   "execution_count": null,
   "id": "62249b0c-c226-49f9-9fa0-ec811e2521a0",
   "metadata": {},
   "outputs": [],
   "source": [
    "r = requests.get(url + '/api/videotasks', params={'runner': runner_id})\n",
    "r"
   ]
  },
  {
   "cell_type": "code",
   "execution_count": null,
   "id": "1734cc40-0a4a-4b3c-988a-080aab92df26",
   "metadata": {},
   "outputs": [],
   "source": [
    "len(r.content)"
   ]
  },
  {
   "cell_type": "code",
   "execution_count": null,
   "id": "b1ff96dd-d3a3-4ffb-97d6-f711843d7603",
   "metadata": {
    "tags": []
   },
   "outputs": [],
   "source": [
    "task = r.json()\n",
    "task"
   ]
  },
  {
   "cell_type": "code",
   "execution_count": null,
   "id": "713668ec-6063-40cf-a874-9a3e49c2af3f",
   "metadata": {},
   "outputs": [],
   "source": [
    "start = datetime.now()"
   ]
  },
  {
   "cell_type": "code",
   "execution_count": null,
   "id": "87577d40-267b-43b3-91ad-15a71a5c25d7",
   "metadata": {},
   "outputs": [],
   "source": [
    "if task['type'] == 'INFO_REQUEST':\n",
    "    frames, fps = download.info(task['videoId'])\n",
    "    response = requests.post(url + '/api/videotasks/info', json={\n",
    "        'taskId': task['id'],\n",
    "        'runner': runner_id,\n",
    "        'frames': frames,\n",
    "        'fps': fps\n",
    "    })\n",
    "    print(response)"
   ]
  },
  {
   "cell_type": "code",
   "execution_count": null,
   "id": "2d4dc4ef-371f-48fe-bdbf-82f08854bf66",
   "metadata": {},
   "outputs": [],
   "source": [
    "if task['type'] == 'GET_TEXT':\n",
    "    texts = []\n",
    "    for i in range(task['frame'], task['frame']+task['count']):\n",
    "        print('Frame', i)\n",
    "        image = download.get_frame_num(task['videoId'], i)\n",
    "        text = process_text(extract_text(unsharp(scale(6, gray(image)))))\n",
    "        if text:\n",
    "            print(text)\n",
    "            texts.append({'frame': i, 'text': text})\n",
    "    response = requests.post(url + '/api/videotasks/texts', json={\n",
    "        'taskId': task['id'],\n",
    "        'runner': runner_id,\n",
    "        'texts': texts\n",
    "    })\n",
    "    print(response)"
   ]
  },
  {
   "cell_type": "code",
   "execution_count": null,
   "id": "61a336ec-0303-47f8-a02a-e8ff284e9bcf",
   "metadata": {},
   "outputs": [],
   "source": [
    "(datetime.now()-start).total_seconds() / 60"
   ]
  }
 ],
 "metadata": {
  "kernelspec": {
   "display_name": "Python 3 (ipykernel)",
   "language": "python",
   "name": "python3"
  },
  "language_info": {
   "codemirror_mode": {
    "name": "ipython",
    "version": 3
   },
   "file_extension": ".py",
   "mimetype": "text/x-python",
   "name": "python",
   "nbconvert_exporter": "python",
   "pygments_lexer": "ipython3",
   "version": "3.7.9"
  }
 },
 "nbformat": 4,
 "nbformat_minor": 5
}
