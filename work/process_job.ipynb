{
 "cells": [
  {
   "cell_type": "code",
   "execution_count": null,
   "id": "bc1d1332-2cfa-4530-918e-d1f8b490bb2b",
   "metadata": {},
   "outputs": [],
   "source": [
    "import requests\n",
    "from extract import unsharp, thresh, gray, scale, blur, process_text, extract_text\n",
    "import download\n",
    "import cv2\n",
    "\n",
    "from datetime import datetime"
   ]
  },
  {
   "cell_type": "code",
   "execution_count": null,
   "id": "8c208dfb-b90f-408e-8013-264523433b17",
   "metadata": {},
   "outputs": [],
   "source": [
    "url = 'http://192.168.1.17'\n",
    "runner_id = 'jupyter'"
   ]
  },
  {
   "cell_type": "code",
   "execution_count": null,
   "id": "62249b0c-c226-49f9-9fa0-ec811e2521a0",
   "metadata": {},
   "outputs": [],
   "source": [
    "r = requests.get(url + '/api/videotasks', params={'runner': runner_id})\n",
    "r"
   ]
  },
  {
   "cell_type": "code",
   "execution_count": null,
   "id": "1734cc40-0a4a-4b3c-988a-080aab92df26",
   "metadata": {},
   "outputs": [],
   "source": [
    "len(r.content)"
   ]
  },
  {
   "cell_type": "code",
   "execution_count": null,
   "id": "b1ff96dd-d3a3-4ffb-97d6-f711843d7603",
   "metadata": {},
   "outputs": [],
   "source": [
    "task = r.json()\n",
    "task"
   ]
  },
  {
   "cell_type": "raw",
   "id": "45545a9d-5a53-4c03-aa29-bdae524c8c73",
   "metadata": {},
   "source": [
    "start = datetime.now()"
   ]
  },
  {
   "cell_type": "code",
   "execution_count": null,
   "id": "87577d40-267b-43b3-91ad-15a71a5c25d7",
   "metadata": {},
   "outputs": [],
   "source": [
    "if task['type'] == 'INFO_REQUEST':\n",
    "    frames, fps = download.info(task['videoId'])\n",
    "    response = requests.post(url + '/api/videotasks/info', json={\n",
    "        'taskId': task['id'],\n",
    "        'runner': runner_id,\n",
    "        'frames': frames,\n",
    "        'fps': fps\n",
    "    })\n",
    "    print(response)"
   ]
  },
  {
   "cell_type": "code",
   "execution_count": null,
   "id": "2d4dc4ef-371f-48fe-bdbf-82f08854bf66",
   "metadata": {},
   "outputs": [],
   "source": [
    "if task['type'] == 'GET_TEXT':\n",
    "    texts = []\n",
    "    for i in range(task['frame'], task['frame']+task['count']):\n",
    "        print('Frame', i)\n",
    "        image = download.get_frame_num(task['videoId'], i)\n",
    "        text = process_text(extract_text(unsharp(scale(6, gray(image)))))\n",
    "        if text:\n",
    "            print(text)\n",
    "            texts.append({'frame': i, 'text': text})\n",
    "    response = requests.post(url + '/api/videotasks/texts', json={\n",
    "        'taskId': task['id'],\n",
    "        'runner': runner_id,\n",
    "        'texts': texts\n",
    "    })\n",
    "    print(response)"
   ]
  },
  {
   "cell_type": "code",
   "execution_count": null,
   "id": "9b1433bd-ba2e-45c0-852e-6eb2d8a61def",
   "metadata": {},
   "outputs": [],
   "source": [
    "target_height = 200\n",
    "\n",
    "if task['type'] == 'GET_IMAGE':\n",
    "    frames = task['frames']\n",
    "    for f in frames:\n",
    "        image = download.get_frame_num(task['videoId'], f)\n",
    "        h = image.shape[0]\n",
    "        w = image.shape[1]\n",
    "        scale = target_height / h\n",
    "        im = cv2.resize(image, None, fx=scale, fy=scale)\n",
    "        _ , encoded_image = cv2.imencode('.png', im)\n",
    "        requests.post(url+'/api/videotasks/frame/'+task['videoId']+'/'+str(f), data = encoded_image.tobytes())\n",
    "    requests.post(url+'/api/videotasks/images', json={\n",
    "        'taskId': task['id'],\n",
    "        'runner': runner_id,\n",
    "    })"
   ]
  },
  {
   "cell_type": "raw",
   "id": "11e7e069-ac5d-4ee6-972a-1b2f736f6e30",
   "metadata": {},
   "source": [
    "(datetime.now()-start).total_seconds() / 60"
   ]
  }
 ],
 "metadata": {
  "kernelspec": {
   "display_name": "Python 3 (ipykernel)",
   "language": "python",
   "name": "python3"
  },
  "language_info": {
   "codemirror_mode": {
    "name": "ipython",
    "version": 3
   },
   "file_extension": ".py",
   "mimetype": "text/x-python",
   "name": "python",
   "nbconvert_exporter": "python",
   "pygments_lexer": "ipython3"
  }
 },
 "nbformat": 4,
 "nbformat_minor": 5
}
