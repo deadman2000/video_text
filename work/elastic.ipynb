{
 "cells": [
  {
   "cell_type": "code",
   "execution_count": 1,
   "id": "b183d3fb-9d99-491a-809a-b84705498753",
   "metadata": {},
   "outputs": [],
   "source": [
    "import requests"
   ]
  },
  {
   "cell_type": "code",
   "execution_count": 2,
   "id": "c3822c58-2e77-41ff-8888-fcf9702dff9d",
   "metadata": {},
   "outputs": [],
   "source": [
    "project = 'laura_bow_2'"
   ]
  },
  {
   "cell_type": "code",
   "execution_count": 10,
   "id": "77eddafb-fbac-40dd-99dd-2b42b3486d91",
   "metadata": {},
   "outputs": [
    {
     "data": {
      "text/plain": [
       "{'took': 4,\n",
       " 'timed_out': False,\n",
       " '_shards': {'total': 1, 'successful': 1, 'skipped': 0, 'failed': 0},\n",
       " 'hits': {'total': {'value': 1604, 'relation': 'eq'},\n",
       "  'max_score': 70.69595,\n",
       "  'hits': [{'_index': 'source-text',\n",
       "    '_type': '_doc',\n",
       "    '_id': 'Slupyn4B7w1iQaZRb3QA',\n",
       "    '_score': 70.69595,\n",
       "    '_source': {'project': 'laura_bow_2',\n",
       "     'volume': '1888_msg',\n",
       "     'number': 51,\n",
       "     'text': 'Ah...I see....'}}]}}"
      ]
     },
     "execution_count": 10,
     "metadata": {},
     "output_type": "execute_result"
    }
   ],
   "source": [
    "text = 'Ah...I see....'\n",
    "requests.post('http://192.168.99.100:9200/source-text/_search', json={\n",
    "    \"query\": {\n",
    "        \"bool\": {\n",
    "            \"filter\": [\n",
    "                {\"term\": { \"project\": project}}\n",
    "            ],\n",
    "            \"must\": {\n",
    "                \"match\": {\n",
    "                    \"text\": {\n",
    "                        \"query\": text,\n",
    "                        \"fuzziness\": \"auto\"\n",
    "                    }\n",
    "                }\n",
    "            }\n",
    "        }\n",
    "    },\n",
    "    \"size\": 1\n",
    "}).json()"
   ]
  },
  {
   "cell_type": "code",
   "execution_count": 21,
   "id": "c01f5a78-62c8-45fa-b807-6493a10a86f1",
   "metadata": {},
   "outputs": [],
   "source": [
    "text = '\"VAT 13\"\\r\\nIndistinct shapes are floating in the murky liquid.  None of the creatures are close enough to the glass to see what they are.  '\n",
    "\n",
    "volume = '610_msg'\n",
    "number = 80"
   ]
  },
  {
   "cell_type": "code",
   "execution_count": 22,
   "id": "649e06d4-4f80-4b51-8bf6-db143bc29c81",
   "metadata": {},
   "outputs": [
    {
     "data": {
      "text/plain": [
       "{'took': 33,\n",
       " 'timed_out': False,\n",
       " '_shards': {'total': 1, 'successful': 1, 'skipped': 0, 'failed': 0},\n",
       " 'hits': {'total': {'value': 1, 'relation': 'eq'},\n",
       "  'max_score': 76.55948,\n",
       "  'hits': [{'_index': 'source-text',\n",
       "    '_type': '_doc',\n",
       "    '_id': 'Clupyn4B7w1iQaZRbm36',\n",
       "    '_score': 76.55948,\n",
       "    '_source': {'project': 'laura_bow_2',\n",
       "     'volume': '610_msg',\n",
       "     'number': 80,\n",
       "     'text': '\"VAT 13\"\\r\\nIndistinct shapes are floating in the murky liquid.  None of the creatures are close enough to the glass to see what they are.  '}}]}}"
      ]
     },
     "execution_count": 22,
     "metadata": {},
     "output_type": "execute_result"
    }
   ],
   "source": [
    "requests.post('http://192.168.99.100:9200/source-text/_search', json={\n",
    "    \"query\": {\n",
    "        \"bool\": {\n",
    "            \"filter\": [\n",
    "                {\"term\": { \"project\": project}},\n",
    "                {\"term\": { \"volume\": volume}},\n",
    "                {\"term\": { \"number\": number}}\n",
    "            ],\n",
    "            \"must\": {\n",
    "                \"match\": {\n",
    "                    \"text\": {\n",
    "                        \"query\": text,\n",
    "                        \"fuzziness\": \"auto\"\n",
    "                    }\n",
    "                }\n",
    "            }\n",
    "        }\n",
    "    },\n",
    "    \"size\": 1\n",
    "}).json()"
   ]
  }
 ],
 "metadata": {
  "kernelspec": {
   "display_name": "Python 3 (ipykernel)",
   "language": "python",
   "name": "python3"
  },
  "language_info": {
   "codemirror_mode": {
    "name": "ipython",
    "version": 3
   },
   "file_extension": ".py",
   "mimetype": "text/x-python",
   "name": "python",
   "nbconvert_exporter": "python",
   "pygments_lexer": "ipython3",
   "version": "3.7.9"
  }
 },
 "nbformat": 4,
 "nbformat_minor": 5
}
