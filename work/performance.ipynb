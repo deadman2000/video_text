{
 "cells": [
  {
   "cell_type": "code",
   "execution_count": 1,
   "id": "ccb0c817",
   "metadata": {},
   "outputs": [],
   "source": [
    "from matplotlib import pyplot as plt\n",
    "import cv2\n",
    "import numpy as np\n",
    "import pytesseract\n",
    "import download\n",
    "from extract import unsharp_mask"
   ]
  },
  {
   "cell_type": "code",
   "execution_count": 2,
   "id": "2b48b085",
   "metadata": {},
   "outputs": [
    {
     "name": "stdout",
     "output_type": "stream",
     "text": [
      "[youtube] Oevq2aSOs0M: Downloading webpage\n",
      "[youtube] Oevq2aSOs0M: Downloading android player API JSON\n",
      "[info] Oevq2aSOs0M: Downloading 1 format(s): 18\n",
      "[download] download\\Oevq2aSOs0M.mp4 has already been downloaded\n",
      "[download] 100% of 616.65MiB\n"
     ]
    }
   ],
   "source": [
    "im = download.get_frame('Oevq2aSOs0M', 11964)"
   ]
  },
  {
   "cell_type": "code",
   "execution_count": 5,
   "id": "d3349d86",
   "metadata": {},
   "outputs": [
    {
     "name": "stdout",
     "output_type": "stream",
     "text": [
      "Wall time: 426 ms\n"
     ]
    },
    {
     "data": {
      "text/plain": [
       "'Where | grew up doesn’t matter,\\n_ |does eet? Ze important thing\\nees...ait, did you hear something\\n\\n'"
      ]
     },
     "execution_count": 5,
     "metadata": {},
     "output_type": "execute_result"
    }
   ],
   "source": [
    "%time pytesseract.image_to_string(im)"
   ]
  },
  {
   "cell_type": "code",
   "execution_count": 6,
   "id": "3e8429a5",
   "metadata": {},
   "outputs": [],
   "source": [
    "def detect(image):\n",
    "    unsharp = unsharp_mask(image)\n",
    "    gray = cv2.cvtColor(unsharp, cv2.COLOR_BGR2GRAY)\n",
    "    gray_x6 = cv2.resize(gray, None, fx=6, fy=6)\n",
    "    thresh = cv2.threshold(gray_x6, 150, 255, cv2.THRESH_BINARY)[1]\n",
    "    return pytesseract.image_to_string(thresh)"
   ]
  },
  {
   "cell_type": "code",
   "execution_count": 7,
   "id": "851c666a",
   "metadata": {
    "scrolled": false
   },
   "outputs": [
    {
     "name": "stdout",
     "output_type": "stream",
     "text": [
      "Wall time: 1.17 s\n"
     ]
    },
    {
     "data": {
      "text/plain": [
       "'m Where | grew up doesn’t matter,\\ndoes eet? Ze important thing\\nees...wait, did you hear something\\n\\n__J at the door?\\n\\n'"
      ]
     },
     "execution_count": 7,
     "metadata": {},
     "output_type": "execute_result"
    }
   ],
   "source": [
    "%time detect(im)"
   ]
  },
  {
   "cell_type": "raw",
   "id": "591d13d3",
   "metadata": {},
   "source": [
    "def detect_many():\n",
    "    for i in range(100):\n",
    "        detect(im)"
   ]
  },
  {
   "cell_type": "raw",
   "id": "9a8ec08c",
   "metadata": {},
   "source": [
    "%time detect_many()"
   ]
  }
 ],
 "metadata": {
  "kernelspec": {
   "display_name": "Python 3 (ipykernel)",
   "language": "python",
   "name": "python3"
  },
  "language_info": {
   "codemirror_mode": {
    "name": "ipython",
    "version": 3
   },
   "file_extension": ".py",
   "mimetype": "text/x-python",
   "name": "python",
   "nbconvert_exporter": "python",
   "pygments_lexer": "ipython3",
   "version": "3.7.9"
  }
 },
 "nbformat": 4,
 "nbformat_minor": 5
}
