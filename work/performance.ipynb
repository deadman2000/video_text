{
 "cells": [
  {
   "cell_type": "code",
   "execution_count": null,
   "id": "ccb0c817",
   "metadata": {},
   "outputs": [],
   "source": [
    "from matplotlib import pyplot as plt\n",
    "import cv2\n",
    "import numpy as np\n",
    "import pytesseract\n",
    "import download\n",
    "from extract import unsharp_mask"
   ]
  },
  {
   "cell_type": "code",
   "execution_count": null,
   "id": "2b48b085",
   "metadata": {},
   "outputs": [],
   "source": [
    "im = download.get_frame('Oevq2aSOs0M', 11964)"
   ]
  },
  {
   "cell_type": "code",
   "execution_count": null,
   "id": "d3349d86",
   "metadata": {},
   "outputs": [],
   "source": [
    "%time pytesseract.image_to_string(im)"
   ]
  },
  {
   "cell_type": "code",
   "execution_count": null,
   "id": "3e8429a5",
   "metadata": {},
   "outputs": [],
   "source": [
    "def detect(image):\n",
    "    unsharp = unsharp_mask(image)\n",
    "    gray = cv2.cvtColor(unsharp, cv2.COLOR_BGR2GRAY)\n",
    "    gray_x6 = cv2.resize(gray, None, fx=6, fy=6)\n",
    "    thresh = cv2.threshold(gray_x6, 150, 255, cv2.THRESH_BINARY)[1]\n",
    "    return pytesseract.image_to_string(thresh)"
   ]
  },
  {
   "cell_type": "code",
   "execution_count": null,
   "id": "851c666a",
   "metadata": {},
   "outputs": [],
   "source": [
    "%time detect(im)"
   ]
  },
  {
   "cell_type": "raw",
   "id": "591d13d3",
   "metadata": {},
   "source": [
    "def detect_many():\n",
    "    for i in range(100):\n",
    "        detect(im)"
   ]
  },
  {
   "cell_type": "raw",
   "id": "9a8ec08c",
   "metadata": {},
   "source": [
    "%time detect_many()"
   ]
  }
 ],
 "metadata": {
  "kernelspec": {
   "display_name": "Python 3 (ipykernel)",
   "language": "python",
   "name": "python3"
  },
  "language_info": {
   "codemirror_mode": {
    "name": "ipython",
    "version": 3
   },
   "file_extension": ".py",
   "mimetype": "text/x-python",
   "name": "python",
   "nbconvert_exporter": "python",
   "pygments_lexer": "ipython3"
  }
 },
 "nbformat": 4,
 "nbformat_minor": 5
}
