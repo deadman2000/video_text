{
 "cells": [
  {
   "cell_type": "code",
   "execution_count": 1,
   "metadata": {},
   "outputs": [
    {
     "name": "stdout",
     "output_type": "stream",
     "text": [
      "Requirement already satisfied: pytube3 in /opt/conda/lib/python3.7/site-packages (from -r requirements.txt (line 1)) (9.6.4)\n",
      "Requirement already satisfied: moviepy in /opt/conda/lib/python3.7/site-packages (from -r requirements.txt (line 2)) (1.0.2)\n",
      "Requirement already satisfied: pytesseract in /opt/conda/lib/python3.7/site-packages (from -r requirements.txt (line 3)) (0.3.4)\n",
      "Requirement already satisfied: elasticsearch<8.0.0,>=7.0.0 in /opt/conda/lib/python3.7/site-packages (from -r requirements.txt (line 4)) (7.6.0)\n",
      "Collecting opencv-python\n",
      "  Downloading opencv_python-4.2.0.34-cp37-cp37m-manylinux1_x86_64.whl (28.2 MB)\n",
      "\u001b[K     |████████████████████████████████| 28.2 MB 329 kB/s eta 0:00:01    |▋                               | 563 kB 1.0 MB/s eta 0:00:27     |█▋                              | 1.4 MB 1.0 MB/s eta 0:00:27     |████████▌                       | 7.5 MB 8.3 MB/s eta 0:00:03     |██████████▍                     | 9.1 MB 8.3 MB/s eta 0:00:03     |██████████▉                     | 9.6 MB 8.3 MB/s eta 0:00:03     |███████████▉                    | 10.4 MB 8.3 MB/s eta 0:00:03     |████████████▎                   | 10.8 MB 8.3 MB/s eta 0:00:03     |████████████████▍               | 14.4 MB 8.3 MB/s eta 0:00:02     |███████████████████▏            | 16.9 MB 8.3 MB/s eta 0:00:02     |███████████████████▊            | 17.3 MB 8.3 MB/s eta 0:00:02     |█████████████████████           | 18.5 MB 8.3 MB/s eta 0:00:02     |██████████████████████          | 19.4 MB 8.3 MB/s eta 0:00:02     |███████████████████████▍        | 20.6 MB 8.3 MB/s eta 0:00:01     |███████████████████████▉        | 21.0 MB 7.1 MB/s eta 0:00:02     |██████████████████████████▏     | 23.0 MB 7.1 MB/s eta 0:00:01     |████████████████████████████    | 24.7 MB 7.1 MB/s eta 0:00:01     |████████████████████████████▌   | 25.1 MB 7.1 MB/s eta 0:00:01     |█████████████████████████████   | 25.5 MB 7.1 MB/s eta 0:00:01\n",
      "\u001b[?25hRequirement already satisfied: typing-extensions in /opt/conda/lib/python3.7/site-packages (from pytube3->-r requirements.txt (line 1)) (3.7.4.1)\n",
      "Requirement already satisfied: numpy; python_version >= \"2.7\" in /opt/conda/lib/python3.7/site-packages (from moviepy->-r requirements.txt (line 2)) (1.18.1)\n",
      "Requirement already satisfied: requests<3.0,>=2.8.1 in /opt/conda/lib/python3.7/site-packages (from moviepy->-r requirements.txt (line 2)) (2.23.0)\n",
      "Requirement already satisfied: imageio-ffmpeg>=0.2.0; python_version >= \"3.4\" in /opt/conda/lib/python3.7/site-packages (from moviepy->-r requirements.txt (line 2)) (0.4.1)\n",
      "Requirement already satisfied: decorator<5.0,>=4.0.2 in /opt/conda/lib/python3.7/site-packages (from moviepy->-r requirements.txt (line 2)) (4.4.2)\n",
      "Requirement already satisfied: imageio<3.0,>=2.5; python_version >= \"3.4\" in /opt/conda/lib/python3.7/site-packages (from moviepy->-r requirements.txt (line 2)) (2.8.0)\n",
      "Requirement already satisfied: proglog<=1.0.0 in /opt/conda/lib/python3.7/site-packages (from moviepy->-r requirements.txt (line 2)) (0.1.9)\n",
      "Requirement already satisfied: tqdm<5.0,>=4.11.2 in /opt/conda/lib/python3.7/site-packages (from moviepy->-r requirements.txt (line 2)) (4.45.0)\n",
      "Requirement already satisfied: Pillow in /opt/conda/lib/python3.7/site-packages (from pytesseract->-r requirements.txt (line 3)) (7.1.1)\n",
      "Requirement already satisfied: urllib3>=1.21.1 in /opt/conda/lib/python3.7/site-packages (from elasticsearch<8.0.0,>=7.0.0->-r requirements.txt (line 4)) (1.25.9)\n",
      "Requirement already satisfied: certifi>=2017.4.17 in /opt/conda/lib/python3.7/site-packages (from requests<3.0,>=2.8.1->moviepy->-r requirements.txt (line 2)) (2020.4.5.1)\n",
      "Requirement already satisfied: idna<3,>=2.5 in /opt/conda/lib/python3.7/site-packages (from requests<3.0,>=2.8.1->moviepy->-r requirements.txt (line 2)) (2.9)\n",
      "Requirement already satisfied: chardet<4,>=3.0.2 in /opt/conda/lib/python3.7/site-packages (from requests<3.0,>=2.8.1->moviepy->-r requirements.txt (line 2)) (3.0.4)\n",
      "Installing collected packages: opencv-python\n",
      "Successfully installed opencv-python-4.2.0.34\n",
      "Note: you may need to restart the kernel to use updated packages.\n"
     ]
    }
   ],
   "source": [
    "%pip install -r requirements.txt"
   ]
  }
 ],
 "metadata": {
  "kernelspec": {
   "display_name": "Python 3",
   "language": "python",
   "name": "python3"
  },
  "language_info": {
   "codemirror_mode": {
    "name": "ipython",
    "version": 3
   },
   "file_extension": ".py",
   "mimetype": "text/x-python",
   "name": "python",
   "nbconvert_exporter": "python",
   "pygments_lexer": "ipython3",
   "version": "3.7.6"
  }
 },
 "nbformat": 4,
 "nbformat_minor": 4
}
