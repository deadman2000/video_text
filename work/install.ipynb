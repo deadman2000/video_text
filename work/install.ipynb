{
 "cells": [
  {
   "cell_type": "code",
   "execution_count": 1,
   "metadata": {
    "scrolled": false
   },
   "outputs": [
    {
     "name": "stdout",
     "output_type": "stream",
     "text": [
      "Requirement already satisfied: pytube3 in /opt/conda/lib/python3.7/site-packages (from -r requirements.txt (line 1)) (9.6.4)\n",
      "Requirement already satisfied: moviepy in /opt/conda/lib/python3.7/site-packages (from -r requirements.txt (line 2)) (1.0.2)\n",
      "Requirement already satisfied: pytesseract in /opt/conda/lib/python3.7/site-packages (from -r requirements.txt (line 3)) (0.3.4)\n",
      "Requirement already satisfied: elasticsearch<8.0.0,>=7.0.0 in /opt/conda/lib/python3.7/site-packages (from -r requirements.txt (line 4)) (7.6.0)\n",
      "Requirement already satisfied: opencv-python in /opt/conda/lib/python3.7/site-packages (from -r requirements.txt (line 5)) (4.2.0.34)\n",
      "Requirement already satisfied: pymongo in /opt/conda/lib/python3.7/site-packages (from -r requirements.txt (line 6)) (3.10.1)\n",
      "Requirement already satisfied: typing-extensions in /opt/conda/lib/python3.7/site-packages (from pytube3->-r requirements.txt (line 1)) (3.7.4.2)\n",
      "Requirement already satisfied: proglog<=1.0.0 in /opt/conda/lib/python3.7/site-packages (from moviepy->-r requirements.txt (line 2)) (0.1.9)\n",
      "Requirement already satisfied: numpy>=1.17.3; python_version != \"2.7\" in /opt/conda/lib/python3.7/site-packages (from moviepy->-r requirements.txt (line 2)) (1.18.4)\n",
      "Requirement already satisfied: imageio-ffmpeg>=0.2.0; python_version >= \"3.4\" in /opt/conda/lib/python3.7/site-packages (from moviepy->-r requirements.txt (line 2)) (0.4.1)\n",
      "Requirement already satisfied: decorator<5.0,>=4.0.2 in /opt/conda/lib/python3.7/site-packages (from moviepy->-r requirements.txt (line 2)) (4.4.2)\n",
      "Requirement already satisfied: tqdm<5.0,>=4.11.2 in /opt/conda/lib/python3.7/site-packages (from moviepy->-r requirements.txt (line 2)) (4.45.0)\n",
      "Requirement already satisfied: requests<3.0,>=2.8.1 in /opt/conda/lib/python3.7/site-packages (from moviepy->-r requirements.txt (line 2)) (2.23.0)\n",
      "Requirement already satisfied: imageio<3.0,>=2.5; python_version >= \"3.4\" in /opt/conda/lib/python3.7/site-packages (from moviepy->-r requirements.txt (line 2)) (2.8.0)\n",
      "Requirement already satisfied: Pillow in /opt/conda/lib/python3.7/site-packages (from pytesseract->-r requirements.txt (line 3)) (7.1.2)\n",
      "Requirement already satisfied: urllib3>=1.21.1 in /opt/conda/lib/python3.7/site-packages (from elasticsearch<8.0.0,>=7.0.0->-r requirements.txt (line 4)) (1.25.9)\n",
      "Requirement already satisfied: certifi>=2017.4.17 in /opt/conda/lib/python3.7/site-packages (from requests<3.0,>=2.8.1->moviepy->-r requirements.txt (line 2)) (2020.4.5.1)\n",
      "Requirement already satisfied: idna<3,>=2.5 in /opt/conda/lib/python3.7/site-packages (from requests<3.0,>=2.8.1->moviepy->-r requirements.txt (line 2)) (2.9)\n",
      "Requirement already satisfied: chardet<4,>=3.0.2 in /opt/conda/lib/python3.7/site-packages (from requests<3.0,>=2.8.1->moviepy->-r requirements.txt (line 2)) (3.0.4)\n",
      "Note: you may need to restart the kernel to use updated packages.\n"
     ]
    }
   ],
   "source": [
    "%pip install -r requirements.txt"
   ]
  },
  {
   "cell_type": "code",
   "execution_count": 2,
   "metadata": {},
   "outputs": [
    {
     "name": "stderr",
     "output_type": "stream",
     "text": [
      "UsageError: Line magic function `%apt-get` not found.\n"
     ]
    }
   ],
   "source": [
    "%apt-get install tesseract"
   ]
  }
 ],
 "metadata": {
  "kernelspec": {
   "display_name": "Python 3",
   "language": "python",
   "name": "python3"
  },
  "language_info": {
   "codemirror_mode": {
    "name": "ipython",
    "version": 3
   },
   "file_extension": ".py",
   "mimetype": "text/x-python",
   "name": "python",
   "nbconvert_exporter": "python",
   "pygments_lexer": "ipython3",
   "version": "3.7.6"
  }
 },
 "nbformat": 4,
 "nbformat_minor": 4
}
