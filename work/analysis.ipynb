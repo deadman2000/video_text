{
 "cells": [
  {
   "cell_type": "code",
   "execution_count": 1,
   "id": "249a9666-dd10-454d-9a02-2ac660a6a78f",
   "metadata": {},
   "outputs": [],
   "source": [
    "import matplotlib.pyplot as plt"
   ]
  },
  {
   "cell_type": "code",
   "execution_count": 2,
   "id": "6fd73b04-14a8-40b5-a94e-786a8b89d42d",
   "metadata": {},
   "outputs": [
    {
     "data": {
      "text/plain": [
       "[('h_400:gray:unsharp:', 30, 2, 82),\n",
       " ('h_400:gray:thresh:', 77, 60, 92),\n",
       " ('h_400:gray:blur:', 16, 2, 73)]"
      ]
     },
     "execution_count": 2,
     "metadata": {},
     "output_type": "execute_result"
    }
   ],
   "source": [
    "f = open(\"scores.txt\", \"r\")\n",
    "lines = f.readlines()\n",
    "lines = [l.split(' ') for l in lines]\n",
    "rate_list = [(l[0], int(l[1]), int(l[2]), int(l[3])) for l in lines]\n",
    "rate_list[:3]"
   ]
  },
  {
   "cell_type": "code",
   "execution_count": 3,
   "id": "c2b114fa-02d7-4ddf-8e39-5abbde4780ca",
   "metadata": {},
   "outputs": [
    {
     "data": {
      "text/plain": [
       "[(['h_400', 'gray', 'unsharp'], 30, 2, 82),\n",
       " (['h_400', 'gray', 'thresh'], 77, 60, 92),\n",
       " (['h_400', 'gray', 'blur'], 16, 2, 73)]"
      ]
     },
     "execution_count": 3,
     "metadata": {},
     "output_type": "execute_result"
    }
   ],
   "source": [
    "rate_list = [(l[0][:-1].split(':'), l[1], l[2], l[3]) for l in rate_list]\n",
    "rate_list[:3]"
   ]
  },
  {
   "cell_type": "markdown",
   "id": "b3cfdd1d-22c3-4f51-916d-47f2e99eb900",
   "metadata": {
    "tags": []
   },
   "source": [
    "## Best score"
   ]
  },
  {
   "cell_type": "code",
   "execution_count": 4,
   "id": "38af64f8-5640-457b-b557-2e94a1d503d5",
   "metadata": {},
   "outputs": [
    {
     "data": {
      "text/plain": [
       "[(['gray', '*6', 'unsharp'], 90, 82, 98),\n",
       " (['*6', 'unsharp', 'gray'], 89, 76, 98),\n",
       " (['*5', 'blur', 'gray'], 88, 75, 97),\n",
       " (['*5'], 88, 79, 97),\n",
       " (['h_800', 'gray', 'blur'], 87, 68, 97),\n",
       " (['*4', 'gray', 'blur'], 87, 72, 95),\n",
       " (['*6', 'gray', 'unsharp'], 87, 78, 95),\n",
       " (['*6', 'blur'], 87, 77, 97),\n",
       " (['gray', '*4', 'unsharp'], 87, 66, 98),\n",
       " (['gray', '*4'], 87, 69, 96)]"
      ]
     },
     "execution_count": 4,
     "metadata": {},
     "output_type": "execute_result"
    }
   ],
   "source": [
    "sorted(rate_list, key=lambda r: -r[1])[:10]"
   ]
  },
  {
   "cell_type": "markdown",
   "id": "be22e5f8-0774-4d2f-ab01-15ab30c8ad2f",
   "metadata": {
    "tags": []
   },
   "source": [
    "## Best min score"
   ]
  },
  {
   "cell_type": "code",
   "execution_count": 5,
   "id": "cd0e4c72-99da-4142-a54a-ed6413489bb4",
   "metadata": {},
   "outputs": [
    {
     "data": {
      "text/plain": [
       "[(['gray', '*6', 'unsharp'], 90, 82, 98),\n",
       " (['*5'], 88, 79, 97),\n",
       " (['*6', 'gray', 'unsharp'], 87, 78, 95),\n",
       " (['*4', 'blur'], 86, 77, 97),\n",
       " (['*6', 'blur'], 87, 77, 97),\n",
       " (['blur', 'unsharp', '*6'], 86, 77, 93),\n",
       " (['*6'], 87, 77, 95),\n",
       " (['h_600', 'gray', 'unsharp'], 82, 76, 96),\n",
       " (['*6', 'unsharp', 'gray'], 89, 76, 98),\n",
       " (['*5', 'blur', 'gray'], 88, 75, 97)]"
      ]
     },
     "execution_count": 5,
     "metadata": {},
     "output_type": "execute_result"
    }
   ],
   "source": [
    "sorted(rate_list, key=lambda r: -r[2])[:10]"
   ]
  },
  {
   "cell_type": "markdown",
   "id": "eab79218-f69c-4028-ad5e-898d9ac12d46",
   "metadata": {
    "tags": []
   },
   "source": [
    "## Worst score"
   ]
  },
  {
   "cell_type": "code",
   "execution_count": 6,
   "id": "36116f9c-7728-4e9f-9e6c-5da6ee4af605",
   "metadata": {},
   "outputs": [],
   "source": [
    "rate_list = [l for l in rate_list if 'h_400' not in l[0]]"
   ]
  },
  {
   "cell_type": "code",
   "execution_count": 7,
   "id": "bfc6cc1c-c4ea-492d-b6a1-2a86ba20a97b",
   "metadata": {},
   "outputs": [
    {
     "data": {
      "text/plain": [
       "[(['gray'], 19, 3, 88),\n",
       " (['gray', 'blur'], 24, 4, 98),\n",
       " (['blur', 'gray'], 24, 4, 98),\n",
       " (['unsharp', 'thresh'], 32, 3, 86),\n",
       " (['unsharp', 'thresh', 'gray'], 33, 0, 98),\n",
       " (['gray', 'blur', '*2'], 34, 4, 97),\n",
       " (['thresh', 'unsharp'], 34, 3, 96),\n",
       " (['thresh'], 34, 3, 96),\n",
       " (['blur', 'h_600'], 35, 4, 95),\n",
       " (['blur', 'gray', '*2'], 35, 4, 98),\n",
       " (['gray', 'blur', 'h_600'], 36, 4, 98),\n",
       " (['gray', 'blur', 'h_800'], 36, 4, 96),\n",
       " (['blur', '*2', 'gray'], 36, 4, 97),\n",
       " (['blur', 'gray', 'h_600'], 36, 4, 98),\n",
       " (['blur', 'gray', 'h_800'], 36, 4, 97),\n",
       " (['blur', 'h_600', 'gray'], 37, 4, 97),\n",
       " (['gray', 'blur', 'unsharp'], 40, 6, 87),\n",
       " (['unsharp', 'thresh', 'blur'], 40, 3, 87),\n",
       " (['unsharp', 'blur', 'thresh'], 40, 3, 87),\n",
       " (['unsharp', 'blur'], 40, 5, 92)]"
      ]
     },
     "execution_count": 7,
     "metadata": {},
     "output_type": "execute_result"
    }
   ],
   "source": [
    "sorted(rate_list, key=lambda r: r[1])[:20]"
   ]
  },
  {
   "cell_type": "markdown",
   "id": "a37d581c-3efa-4b32-8ab5-8e5d36df0db6",
   "metadata": {
    "tags": []
   },
   "source": [
    "## Worst max"
   ]
  },
  {
   "cell_type": "code",
   "execution_count": 8,
   "id": "8cbc2360-9267-4b0c-ae43-2f9730ab817e",
   "metadata": {},
   "outputs": [
    {
     "data": {
      "text/plain": [
       "[(['h_800', 'thresh', 'blur'], 50, 9, 79),\n",
       " (['h_800', 'blur', 'thresh'], 50, 9, 79),\n",
       " (['unsharp', 'thresh', '*5'], 57, 9, 82),\n",
       " (['unsharp', 'thresh', '*6'], 54, 9, 83),\n",
       " (['unsharp', 'thresh', '*2'], 58, 9, 84),\n",
       " (['h_600', 'unsharp', 'thresh'], 56, 9, 86),\n",
       " (['gray', 'unsharp', 'blur'], 46, 6, 86),\n",
       " (['unsharp', 'gray', 'blur'], 43, 5, 86),\n",
       " (['unsharp', 'thresh'], 32, 3, 86),\n",
       " (['*5', 'unsharp', 'thresh'], 56, 3, 87),\n",
       " (['gray', 'blur', 'unsharp'], 40, 6, 87),\n",
       " (['unsharp', 'thresh', '*4'], 55, 9, 87),\n",
       " (['unsharp', 'thresh', 'blur'], 40, 3, 87),\n",
       " (['unsharp', 'blur', 'thresh'], 40, 3, 87),\n",
       " (['blur', 'unsharp', 'gray'], 43, 6, 87),\n",
       " (['*4', 'unsharp', 'thresh'], 54, 5, 88),\n",
       " (['unsharp', 'h_800', 'thresh'], 44, 6, 88),\n",
       " (['unsharp', '*2', 'thresh'], 59, 5, 88),\n",
       " (['unsharp', 'thresh', 'h_800'], 48, 6, 88),\n",
       " (['blur', 'unsharp'], 44, 5, 88)]"
      ]
     },
     "execution_count": 8,
     "metadata": {},
     "output_type": "execute_result"
    }
   ],
   "source": [
    "sorted(rate_list, key=lambda r: r[3])[:20]"
   ]
  },
  {
   "cell_type": "markdown",
   "id": "74d79422-d815-4d9c-b31e-e50cbc064a81",
   "metadata": {},
   "source": [
    "## Filter hist"
   ]
  },
  {
   "cell_type": "code",
   "execution_count": 9,
   "id": "fcfbf36a-7f81-4fa3-881d-ebf07d2f2b82",
   "metadata": {},
   "outputs": [
    {
     "data": {
      "image/png": "[encoded data removed]",
      "text/plain": [
       "<Figure size 432x288 with 1 Axes>"
      ]
     },
     "metadata": {
      "needs_background": "light"
     },
     "output_type": "display_data"
    }
   ],
   "source": [
    "plt.hist([l[1] for l in rate_list])\n",
    "plt.show() "
   ]
  },
  {
   "cell_type": "code",
   "execution_count": 10,
   "id": "cb868210-6d2c-4cbb-b589-16cee029936d",
   "metadata": {
    "tags": []
   },
   "outputs": [
    {
     "data": {
      "image/png": "[encoded data removed]",
      "text/plain": [
       "<Figure size 432x288 with 1 Axes>"
      ]
     },
     "metadata": {
      "needs_background": "light"
     },
     "output_type": "display_data"
    },
    {
     "data": {
      "image/png": "[encoded data removed]",
      "text/plain": [
       "<Figure size 432x288 with 1 Axes>"
      ]
     },
     "metadata": {
      "needs_background": "light"
     },
     "output_type": "display_data"
    },
    {
     "data": {
      "image/png": "[encoded data removed]",
      "text/plain": [
       "<Figure size 432x288 with 1 Axes>"
      ]
     },
     "metadata": {
      "needs_background": "light"
     },
     "output_type": "display_data"
    },
    {
     "data": {
      "image/png": "[encoded data removed]",
      "text/plain": [
       "<Figure size 432x288 with 1 Axes>"
      ]
     },
     "metadata": {
      "needs_background": "light"
     },
     "output_type": "display_data"
    },
    {
     "data": {
      "image/png": "[encoded data removed]",
      "text/plain": [
       "<Figure size 432x288 with 1 Axes>"
      ]
     },
     "metadata": {
      "needs_background": "light"
     },
     "output_type": "display_data"
    },
    {
     "data": {
      "image/png": "[encoded data removed]",
      "text/plain": [
       "<Figure size 432x288 with 1 Axes>"
      ]
     },
     "metadata": {
      "needs_background": "light"
     },
     "output_type": "display_data"
    },
    {
     "data": {
      "image/png": "[encoded data removed]",
      "text/plain": [
       "<Figure size 432x288 with 1 Axes>"
      ]
     },
     "metadata": {
      "needs_background": "light"
     },
     "output_type": "display_data"
    },
    {
     "data": {
      "image/png": "[encoded data removed]",
      "text/plain": [
       "<Figure size 432x288 with 1 Axes>"
      ]
     },
     "metadata": {
      "needs_background": "light"
     },
     "output_type": "display_data"
    },
    {
     "data": {
      "image/png": "[encoded data removed]",
      "text/plain": [
       "<Figure size 432x288 with 1 Axes>"
      ]
     },
     "metadata": {
      "needs_background": "light"
     },
     "output_type": "display_data"
    },
    {
     "data": {
      "image/png": "[encoded data removed]",
      "text/plain": [
       "<Figure size 432x288 with 1 Axes>"
      ]
     },
     "metadata": {
      "needs_background": "light"
     },
     "output_type": "display_data"
    },
    {
     "data": {
      "image/png": "[encoded data removed]",
      "text/plain": [
       "<Figure size 432x288 with 1 Axes>"
      ]
     },
     "metadata": {
      "needs_background": "light"
     },
     "output_type": "display_data"
    }
   ],
   "source": [
    "filters = ['h_600', 'h_800', '*2', '*3', '*4', '*5', '*6', 'gray', 'unsharp', 'thresh', 'blur']\n",
    "for f in filters:\n",
    "    plt.hist([l[1] for l in rate_list if f in l[0]])\n",
    "    plt.title(f)\n",
    "    plt.show() "
   ]
  }
 ],
 "metadata": {
  "kernelspec": {
   "display_name": "Python 3 (ipykernel)",
   "language": "python",
   "name": "python3"
  },
  "language_info": {
   "codemirror_mode": {
    "name": "ipython",
    "version": 3
   },
   "file_extension": ".py",
   "mimetype": "text/x-python",
   "name": "python",
   "nbconvert_exporter": "python",
   "pygments_lexer": "ipython3",
   "version": "3.9.10"
  }
 },
 "nbformat": 4,
 "nbformat_minor": 5
}
