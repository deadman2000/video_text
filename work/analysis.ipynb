{
 "cells": [
  {
   "cell_type": "code",
   "execution_count": null,
   "id": "249a9666-dd10-454d-9a02-2ac660a6a78f",
   "metadata": {},
   "outputs": [],
   "source": [
    "import matplotlib.pyplot as plt"
   ]
  },
  {
   "cell_type": "code",
   "execution_count": null,
   "id": "6fd73b04-14a8-40b5-a94e-786a8b89d42d",
   "metadata": {},
   "outputs": [],
   "source": [
    "f = open(\"scores.txt\", \"r\")\n",
    "lines = f.readlines()\n",
    "lines = [l.split(' ') for l in lines]\n",
    "rate_list = [(l[0], int(l[1]), int(l[2]), int(l[3])) for l in lines]\n",
    "rate_list[:3]"
   ]
  },
  {
   "cell_type": "raw",
   "id": "dcc6d2d2-0433-4712-b77b-8b50ce938c04",
   "metadata": {},
   "source": [
    "rate_list = [(l[0][:-1].split(':'), l[1], l[2], l[3]) for l in rate_list]\n",
    "rate_list[:3]"
   ]
  },
  {
   "cell_type": "markdown",
   "id": "b3cfdd1d-22c3-4f51-916d-47f2e99eb900",
   "metadata": {},
   "source": [
    "## Best score"
   ]
  },
  {
   "cell_type": "code",
   "execution_count": null,
   "id": "38af64f8-5640-457b-b557-2e94a1d503d5",
   "metadata": {},
   "outputs": [],
   "source": [
    "sorted(rate_list, key=lambda r: -r[1])[:10]"
   ]
  },
  {
   "cell_type": "markdown",
   "id": "be22e5f8-0774-4d2f-ab01-15ab30c8ad2f",
   "metadata": {},
   "source": [
    "## Best min score"
   ]
  },
  {
   "cell_type": "code",
   "execution_count": null,
   "id": "cd0e4c72-99da-4142-a54a-ed6413489bb4",
   "metadata": {},
   "outputs": [],
   "source": [
    "sorted(rate_list, key=lambda r: -r[2])[:10]"
   ]
  },
  {
   "cell_type": "markdown",
   "id": "eab79218-f69c-4028-ad5e-898d9ac12d46",
   "metadata": {},
   "source": [
    "## Worst score"
   ]
  },
  {
   "cell_type": "code",
   "execution_count": null,
   "id": "36116f9c-7728-4e9f-9e6c-5da6ee4af605",
   "metadata": {},
   "outputs": [],
   "source": [
    "rate_list = [l for l in rate_list if 'h_400' not in l[0]]"
   ]
  },
  {
   "cell_type": "code",
   "execution_count": null,
   "id": "bfc6cc1c-c4ea-492d-b6a1-2a86ba20a97b",
   "metadata": {},
   "outputs": [],
   "source": [
    "sorted(rate_list, key=lambda r: r[1])[:20]"
   ]
  },
  {
   "cell_type": "markdown",
   "id": "a37d581c-3efa-4b32-8ab5-8e5d36df0db6",
   "metadata": {},
   "source": [
    "## Worst max"
   ]
  },
  {
   "cell_type": "code",
   "execution_count": null,
   "id": "8cbc2360-9267-4b0c-ae43-2f9730ab817e",
   "metadata": {},
   "outputs": [],
   "source": [
    "sorted(rate_list, key=lambda r: r[3])[:20]"
   ]
  },
  {
   "cell_type": "markdown",
   "id": "74d79422-d815-4d9c-b31e-e50cbc064a81",
   "metadata": {},
   "source": [
    "## Filter hist"
   ]
  },
  {
   "cell_type": "code",
   "execution_count": null,
   "id": "fcfbf36a-7f81-4fa3-881d-ebf07d2f2b82",
   "metadata": {},
   "outputs": [],
   "source": [
    "plt.hist([l[1] for l in rate_list])\n",
    "plt.show() "
   ]
  },
  {
   "cell_type": "code",
   "execution_count": null,
   "id": "cb868210-6d2c-4cbb-b589-16cee029936d",
   "metadata": {},
   "outputs": [],
   "source": [
    "filters = ['h_600', 'h_800', '*1', '*2', '*3', '*4', '*5', '*6', 'gray', 'unsharp', 'thresh', 'blur']\n",
    "for f in filters:\n",
    "    plt.hist([l[1] for l in rate_list if f in l[0]])\n",
    "    plt.title(f)\n",
    "    plt.show() "
   ]
  }
 ],
 "metadata": {
  "kernelspec": {
   "display_name": "Python 3 (ipykernel)",
   "language": "python",
   "name": "python3"
  },
  "language_info": {
   "codemirror_mode": {
    "name": "ipython",
    "version": 3
   },
   "file_extension": ".py",
   "mimetype": "text/x-python",
   "name": "python",
   "nbconvert_exporter": "python",
   "pygments_lexer": "ipython3"
  }
 },
 "nbformat": 4,
 "nbformat_minor": 5
}
